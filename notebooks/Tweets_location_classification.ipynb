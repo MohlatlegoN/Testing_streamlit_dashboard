{
  "nbformat": 4,
  "nbformat_minor": 0,
  "metadata": {
    "colab": {
      "name": "Tweets-location-classification.ipynb",
      "provenance": [],
      "collapsed_sections": []
    },
    "kernelspec": {
      "name": "python3",
      "display_name": "Python 3"
    },
    "language_info": {
      "name": "python"
    }
  },
  "cells": [
    {
      "cell_type": "markdown",
      "metadata": {
        "id": "JlzHyM2oFZsg"
      },
      "source": [
        "**Authors**\n",
        "\n",
        "\n",
        "\n",
        "1.   Mohlatlego Nakeng\n",
        "2.   Raymond Chiruka\n",
        "\n",
        "\n",
        "\n"
      ]
    },
    {
      "cell_type": "markdown",
      "metadata": {
        "id": "h1QWvNTomB5a"
      },
      "source": [
        "# **Task**\n",
        "\n",
        ">> Creating the binary classification of our location based microblogs"
      ]
    },
    {
      "cell_type": "code",
      "metadata": {
        "id": "8VXBVerdFpEm"
      },
      "source": [
        "from google.colab import drive\n",
        "import pandas as pd\n",
        "import numpy as np"
      ],
      "execution_count": 1,
      "outputs": []
    },
    {
      "cell_type": "markdown",
      "metadata": {
        "id": "cZLR79kjGmXB"
      },
      "source": [
        "The datase that we use in this modelling part was extracted and sampled from the original data organised by Herkulaas Combrink and Dr. Vukosi Marivate. From University of Pretoria.\n",
        "\n",
        "We extracted the dataset by location (global vs local (South African)), In order to be able to automatically identify global tweets against local tweets\n"
      ]
    },
    {
      "cell_type": "code",
      "metadata": {
        "colab": {
          "base_uri": "https://localhost:8080/"
        },
        "id": "3kVxmsgbF3gY",
        "outputId": "2f02db66-aeba-42a9-a0fc-a79d87c82261"
      },
      "source": [
        "drive.mount('/content/drive')"
      ],
      "execution_count": 2,
      "outputs": [
        {
          "output_type": "stream",
          "text": [
            "Mounted at /content/drive\n"
          ],
          "name": "stdout"
        }
      ]
    },
    {
      "cell_type": "markdown",
      "metadata": {
        "id": "OzkKsP-bH79p"
      },
      "source": [
        "We will sample 80% of the original sample for training purposes.\n",
        "A full training dataset with the following attributes:\n",
        "\n",
        "* id: unique id for the status text\n",
        "\n",
        "* Status_text: the status texts\n",
        "\n",
        "* author: author of the news article\n",
        "\n",
        "* tweets location category: states if weather the tweets was categorised by location\n",
        "\n",
        "* label: tweets location (local vs global)\n",
        "\n",
        "* Binary classess\n",
        "\n",
        "> 1: Local\n",
        "\n",
        "> 0: Global\n"
      ]
    },
    {
      "cell_type": "code",
      "metadata": {
        "id": "mzK9ft8iF3l_"
      },
      "source": [
        "data = pd.read_csv(\"/content/drive/Shareddrives/MIT808 - group 6/data/Categories.csv\")"
      ],
      "execution_count": 3,
      "outputs": []
    },
    {
      "cell_type": "code",
      "metadata": {
        "id": "EwARz_7-F3pA",
        "colab": {
          "base_uri": "https://localhost:8080/",
          "height": 359
        },
        "outputId": "f70d98ec-7cef-4ed6-b3d5-cfb7a1f5341a"
      },
      "source": [
        "data.head(10)"
      ],
      "execution_count": 4,
      "outputs": [
        {
          "output_type": "execute_result",
          "data": {
            "text/html": [
              "<div>\n",
              "<style scoped>\n",
              "    .dataframe tbody tr th:only-of-type {\n",
              "        vertical-align: middle;\n",
              "    }\n",
              "\n",
              "    .dataframe tbody tr th {\n",
              "        vertical-align: top;\n",
              "    }\n",
              "\n",
              "    .dataframe thead th {\n",
              "        text-align: right;\n",
              "    }\n",
              "</style>\n",
              "<table border=\"1\" class=\"dataframe\">\n",
              "  <thead>\n",
              "    <tr style=\"text-align: right;\">\n",
              "      <th></th>\n",
              "      <th>statuses_text</th>\n",
              "      <th>statuses_retweeted</th>\n",
              "      <th>location_cat</th>\n",
              "      <th>tweets_location</th>\n",
              "      <th>message_creator</th>\n",
              "    </tr>\n",
              "  </thead>\n",
              "  <tbody>\n",
              "    <tr>\n",
              "      <th>0</th>\n",
              "      <td>rt drericding breakingâsingleshot johnson amp ...</td>\n",
              "      <td>False</td>\n",
              "      <td>True</td>\n",
              "      <td>local</td>\n",
              "      <td>Human</td>\n",
              "    </tr>\n",
              "    <tr>\n",
              "      <th>1</th>\n",
              "      <td>rt bbcmorelle very good news on novavax vaccin...</td>\n",
              "      <td>False</td>\n",
              "      <td>True</td>\n",
              "      <td>local</td>\n",
              "      <td>Human</td>\n",
              "    </tr>\n",
              "    <tr>\n",
              "      <th>2</th>\n",
              "      <td>rt voxdotcom what makes the johnson amp johnso...</td>\n",
              "      <td>False</td>\n",
              "      <td>False</td>\n",
              "      <td>global</td>\n",
              "      <td>Human</td>\n",
              "    </tr>\n",
              "    <tr>\n",
              "      <th>3</th>\n",
              "      <td>rt drericding breakingâsingleshot johnson amp ...</td>\n",
              "      <td>False</td>\n",
              "      <td>True</td>\n",
              "      <td>local</td>\n",
              "      <td>Human</td>\n",
              "    </tr>\n",
              "    <tr>\n",
              "      <th>4</th>\n",
              "      <td>rt jsavagetweets johnson amp johnson aka janss...</td>\n",
              "      <td>False</td>\n",
              "      <td>True</td>\n",
              "      <td>local</td>\n",
              "      <td>Human</td>\n",
              "    </tr>\n",
              "    <tr>\n",
              "      <th>5</th>\n",
              "      <td>rt voxdotcom what makes the johnson amp johnso...</td>\n",
              "      <td>False</td>\n",
              "      <td>False</td>\n",
              "      <td>global</td>\n",
              "      <td>Human</td>\n",
              "    </tr>\n",
              "    <tr>\n",
              "      <th>6</th>\n",
              "      <td>rt erictopol big news the jnj vaccine results ...</td>\n",
              "      <td>False</td>\n",
              "      <td>True</td>\n",
              "      <td>local</td>\n",
              "      <td>Human</td>\n",
              "    </tr>\n",
              "    <tr>\n",
              "      <th>7</th>\n",
              "      <td>rt drericding breakingâsingleshot johnson amp ...</td>\n",
              "      <td>False</td>\n",
              "      <td>True</td>\n",
              "      <td>local</td>\n",
              "      <td>Human</td>\n",
              "    </tr>\n",
              "    <tr>\n",
              "      <th>8</th>\n",
              "      <td>rt thehowie jnj vaccine\\n\\nthe level of protec...</td>\n",
              "      <td>False</td>\n",
              "      <td>False</td>\n",
              "      <td>global</td>\n",
              "      <td>Human</td>\n",
              "    </tr>\n",
              "    <tr>\n",
              "      <th>9</th>\n",
              "      <td>rt helenbranswell 2 the jampj vaccine showed a...</td>\n",
              "      <td>False</td>\n",
              "      <td>True</td>\n",
              "      <td>local</td>\n",
              "      <td>Human</td>\n",
              "    </tr>\n",
              "  </tbody>\n",
              "</table>\n",
              "</div>"
            ],
            "text/plain": [
              "                                       statuses_text  ...  message_creator\n",
              "0  rt drericding breakingâsingleshot johnson amp ...  ...            Human\n",
              "1  rt bbcmorelle very good news on novavax vaccin...  ...            Human\n",
              "2  rt voxdotcom what makes the johnson amp johnso...  ...            Human\n",
              "3  rt drericding breakingâsingleshot johnson amp ...  ...            Human\n",
              "4  rt jsavagetweets johnson amp johnson aka janss...  ...            Human\n",
              "5  rt voxdotcom what makes the johnson amp johnso...  ...            Human\n",
              "6  rt erictopol big news the jnj vaccine results ...  ...            Human\n",
              "7  rt drericding breakingâsingleshot johnson amp ...  ...            Human\n",
              "8  rt thehowie jnj vaccine\\n\\nthe level of protec...  ...            Human\n",
              "9  rt helenbranswell 2 the jampj vaccine showed a...  ...            Human\n",
              "\n",
              "[10 rows x 5 columns]"
            ]
          },
          "metadata": {
            "tags": []
          },
          "execution_count": 4
        }
      ]
    },
    {
      "cell_type": "code",
      "metadata": {
        "id": "gdIcCc3tF3vA"
      },
      "source": [
        "df = data[[\"statuses_text\", \"tweets_location\", \"message_creator\"]]"
      ],
      "execution_count": 5,
      "outputs": []
    },
    {
      "cell_type": "code",
      "metadata": {
        "id": "l2_9HHL8F3yI",
        "colab": {
          "base_uri": "https://localhost:8080/",
          "height": 419
        },
        "outputId": "6feefcbe-ae0b-49e5-c5b1-df72ba588505"
      },
      "source": [
        "df"
      ],
      "execution_count": 6,
      "outputs": [
        {
          "output_type": "execute_result",
          "data": {
            "text/html": [
              "<div>\n",
              "<style scoped>\n",
              "    .dataframe tbody tr th:only-of-type {\n",
              "        vertical-align: middle;\n",
              "    }\n",
              "\n",
              "    .dataframe tbody tr th {\n",
              "        vertical-align: top;\n",
              "    }\n",
              "\n",
              "    .dataframe thead th {\n",
              "        text-align: right;\n",
              "    }\n",
              "</style>\n",
              "<table border=\"1\" class=\"dataframe\">\n",
              "  <thead>\n",
              "    <tr style=\"text-align: right;\">\n",
              "      <th></th>\n",
              "      <th>statuses_text</th>\n",
              "      <th>tweets_location</th>\n",
              "      <th>message_creator</th>\n",
              "    </tr>\n",
              "  </thead>\n",
              "  <tbody>\n",
              "    <tr>\n",
              "      <th>0</th>\n",
              "      <td>rt drericding breakingâsingleshot johnson amp ...</td>\n",
              "      <td>local</td>\n",
              "      <td>Human</td>\n",
              "    </tr>\n",
              "    <tr>\n",
              "      <th>1</th>\n",
              "      <td>rt bbcmorelle very good news on novavax vaccin...</td>\n",
              "      <td>local</td>\n",
              "      <td>Human</td>\n",
              "    </tr>\n",
              "    <tr>\n",
              "      <th>2</th>\n",
              "      <td>rt voxdotcom what makes the johnson amp johnso...</td>\n",
              "      <td>global</td>\n",
              "      <td>Human</td>\n",
              "    </tr>\n",
              "    <tr>\n",
              "      <th>3</th>\n",
              "      <td>rt drericding breakingâsingleshot johnson amp ...</td>\n",
              "      <td>local</td>\n",
              "      <td>Human</td>\n",
              "    </tr>\n",
              "    <tr>\n",
              "      <th>4</th>\n",
              "      <td>rt jsavagetweets johnson amp johnson aka janss...</td>\n",
              "      <td>local</td>\n",
              "      <td>Human</td>\n",
              "    </tr>\n",
              "    <tr>\n",
              "      <th>...</th>\n",
              "      <td>...</td>\n",
              "      <td>...</td>\n",
              "      <td>...</td>\n",
              "    </tr>\n",
              "    <tr>\n",
              "      <th>404763</th>\n",
              "      <td>rt ciana_soleil someone explain to me why the ...</td>\n",
              "      <td>global</td>\n",
              "      <td>Human</td>\n",
              "    </tr>\n",
              "    <tr>\n",
              "      <th>404764</th>\n",
              "      <td>rt uni0nh0use covid started because people sto...</td>\n",
              "      <td>global</td>\n",
              "      <td>Human</td>\n",
              "    </tr>\n",
              "    <tr>\n",
              "      <th>404765</th>\n",
              "      <td>rt firstgentleman i am very happy that i have ...</td>\n",
              "      <td>global</td>\n",
              "      <td>Human</td>\n",
              "    </tr>\n",
              "    <tr>\n",
              "      <th>404766</th>\n",
              "      <td>rt jburnmurdoch maxcroser this is the other is...</td>\n",
              "      <td>global</td>\n",
              "      <td>Human</td>\n",
              "    </tr>\n",
              "    <tr>\n",
              "      <th>404767</th>\n",
              "      <td>rt iradhikagupta ðÿðÿ³ starts covid \\nðÿºðÿ bu...</td>\n",
              "      <td>global</td>\n",
              "      <td>Human</td>\n",
              "    </tr>\n",
              "  </tbody>\n",
              "</table>\n",
              "<p>404768 rows × 3 columns</p>\n",
              "</div>"
            ],
            "text/plain": [
              "                                            statuses_text  ... message_creator\n",
              "0       rt drericding breakingâsingleshot johnson amp ...  ...           Human\n",
              "1       rt bbcmorelle very good news on novavax vaccin...  ...           Human\n",
              "2       rt voxdotcom what makes the johnson amp johnso...  ...           Human\n",
              "3       rt drericding breakingâsingleshot johnson amp ...  ...           Human\n",
              "4       rt jsavagetweets johnson amp johnson aka janss...  ...           Human\n",
              "...                                                   ...  ...             ...\n",
              "404763  rt ciana_soleil someone explain to me why the ...  ...           Human\n",
              "404764  rt uni0nh0use covid started because people sto...  ...           Human\n",
              "404765  rt firstgentleman i am very happy that i have ...  ...           Human\n",
              "404766  rt jburnmurdoch maxcroser this is the other is...  ...           Human\n",
              "404767  rt iradhikagupta ðÿðÿ³ starts covid \\nðÿºðÿ bu...  ...           Human\n",
              "\n",
              "[404768 rows x 3 columns]"
            ]
          },
          "metadata": {
            "tags": []
          },
          "execution_count": 6
        }
      ]
    },
    {
      "cell_type": "code",
      "metadata": {
        "id": "Dytidz3xJqun",
        "colab": {
          "base_uri": "https://localhost:8080/"
        },
        "outputId": "ebee9e95-c75f-4fa9-9fb5-7b01e9501cd6"
      },
      "source": [
        "df.isnull().sum()"
      ],
      "execution_count": 7,
      "outputs": [
        {
          "output_type": "execute_result",
          "data": {
            "text/plain": [
              "statuses_text      0\n",
              "tweets_location    0\n",
              "message_creator    0\n",
              "dtype: int64"
            ]
          },
          "metadata": {
            "tags": []
          },
          "execution_count": 7
        }
      ]
    },
    {
      "cell_type": "code",
      "metadata": {
        "id": "RAFPzrVuJtQl",
        "colab": {
          "base_uri": "https://localhost:8080/",
          "height": 306
        },
        "outputId": "fd08ddd5-cb9f-456f-d28d-eade286c3a1a"
      },
      "source": [
        "length = []\n",
        "[length.append(len(str(text))) for text in df['statuses_text']]\n",
        "df['length'] = length\n",
        "df.head()"
      ],
      "execution_count": 8,
      "outputs": [
        {
          "output_type": "stream",
          "text": [
            "/usr/local/lib/python3.7/dist-packages/ipykernel_launcher.py:3: SettingWithCopyWarning: \n",
            "A value is trying to be set on a copy of a slice from a DataFrame.\n",
            "Try using .loc[row_indexer,col_indexer] = value instead\n",
            "\n",
            "See the caveats in the documentation: https://pandas.pydata.org/pandas-docs/stable/user_guide/indexing.html#returning-a-view-versus-a-copy\n",
            "  This is separate from the ipykernel package so we can avoid doing imports until\n"
          ],
          "name": "stderr"
        },
        {
          "output_type": "execute_result",
          "data": {
            "text/html": [
              "<div>\n",
              "<style scoped>\n",
              "    .dataframe tbody tr th:only-of-type {\n",
              "        vertical-align: middle;\n",
              "    }\n",
              "\n",
              "    .dataframe tbody tr th {\n",
              "        vertical-align: top;\n",
              "    }\n",
              "\n",
              "    .dataframe thead th {\n",
              "        text-align: right;\n",
              "    }\n",
              "</style>\n",
              "<table border=\"1\" class=\"dataframe\">\n",
              "  <thead>\n",
              "    <tr style=\"text-align: right;\">\n",
              "      <th></th>\n",
              "      <th>statuses_text</th>\n",
              "      <th>tweets_location</th>\n",
              "      <th>message_creator</th>\n",
              "      <th>length</th>\n",
              "    </tr>\n",
              "  </thead>\n",
              "  <tbody>\n",
              "    <tr>\n",
              "      <th>0</th>\n",
              "      <td>rt drericding breakingâsingleshot johnson amp ...</td>\n",
              "      <td>local</td>\n",
              "      <td>Human</td>\n",
              "      <td>137</td>\n",
              "    </tr>\n",
              "    <tr>\n",
              "      <th>1</th>\n",
              "      <td>rt bbcmorelle very good news on novavax vaccin...</td>\n",
              "      <td>local</td>\n",
              "      <td>Human</td>\n",
              "      <td>126</td>\n",
              "    </tr>\n",
              "    <tr>\n",
              "      <th>2</th>\n",
              "      <td>rt voxdotcom what makes the johnson amp johnso...</td>\n",
              "      <td>global</td>\n",
              "      <td>Human</td>\n",
              "      <td>135</td>\n",
              "    </tr>\n",
              "    <tr>\n",
              "      <th>3</th>\n",
              "      <td>rt drericding breakingâsingleshot johnson amp ...</td>\n",
              "      <td>local</td>\n",
              "      <td>Human</td>\n",
              "      <td>137</td>\n",
              "    </tr>\n",
              "    <tr>\n",
              "      <th>4</th>\n",
              "      <td>rt jsavagetweets johnson amp johnson aka janss...</td>\n",
              "      <td>local</td>\n",
              "      <td>Human</td>\n",
              "      <td>134</td>\n",
              "    </tr>\n",
              "  </tbody>\n",
              "</table>\n",
              "</div>"
            ],
            "text/plain": [
              "                                       statuses_text  ... length\n",
              "0  rt drericding breakingâsingleshot johnson amp ...  ...    137\n",
              "1  rt bbcmorelle very good news on novavax vaccin...  ...    126\n",
              "2  rt voxdotcom what makes the johnson amp johnso...  ...    135\n",
              "3  rt drericding breakingâsingleshot johnson amp ...  ...    137\n",
              "4  rt jsavagetweets johnson amp johnson aka janss...  ...    134\n",
              "\n",
              "[5 rows x 4 columns]"
            ]
          },
          "metadata": {
            "tags": []
          },
          "execution_count": 8
        }
      ]
    },
    {
      "cell_type": "code",
      "metadata": {
        "id": "5c6Nz2XOJtU-"
      },
      "source": [
        ""
      ],
      "execution_count": 8,
      "outputs": []
    },
    {
      "cell_type": "markdown",
      "metadata": {
        "id": "gaSlACCgKFhW"
      },
      "source": [
        "The local tweets a bit lesser than global tweeets. Statistically this makes much sense, since local data is the subset of the whole world tweets population dataset."
      ]
    },
    {
      "cell_type": "code",
      "metadata": {
        "id": "Njw_xFkUJtbf",
        "colab": {
          "base_uri": "https://localhost:8080/",
          "height": 282
        },
        "outputId": "7fcb1cfd-c513-4481-f04d-b2bae185928d"
      },
      "source": [
        "df.tweets_location.hist()"
      ],
      "execution_count": 9,
      "outputs": [
        {
          "output_type": "execute_result",
          "data": {
            "text/plain": [
              "<matplotlib.axes._subplots.AxesSubplot at 0x7f747776de10>"
            ]
          },
          "metadata": {
            "tags": []
          },
          "execution_count": 9
        },
        {
          "output_type": "display_data",
          "data": {
            "image/png": "[encoded data removed]",
            "text/plain": [
              "<Figure size 432x288 with 1 Axes>"
            ]
          },
          "metadata": {
            "tags": [],
            "needs_background": "light"
          }
        }
      ]
    },
    {
      "cell_type": "code",
      "metadata": {
        "id": "Ky0aU6y0dx3F",
        "colab": {
          "base_uri": "https://localhost:8080/",
          "height": 282
        },
        "outputId": "982bde3f-fd74-43ce-f61c-9e7d88bf8a6e"
      },
      "source": [
        "df.message_creator.hist()"
      ],
      "execution_count": 10,
      "outputs": [
        {
          "output_type": "execute_result",
          "data": {
            "text/plain": [
              "<matplotlib.axes._subplots.AxesSubplot at 0x7f747764eed0>"
            ]
          },
          "metadata": {
            "tags": []
          },
          "execution_count": 10
        },
        {
          "output_type": "display_data",
          "data": {
            "image/png": "[encoded data removed]",
            "text/plain": [
              "<Figure size 432x288 with 1 Axes>"
            ]
          },
          "metadata": {
            "tags": [],
            "needs_background": "light"
          }
        }
      ]
    },
    {
      "cell_type": "code",
      "metadata": {
        "id": "BkvaFe10KfZS"
      },
      "source": [
        ""
      ],
      "execution_count": 10,
      "outputs": []
    },
    {
      "cell_type": "code",
      "metadata": {
        "id": "fhzp3akKe7i-"
      },
      "source": [
        "Label = []\n",
        "for i,row in df.iterrows():\n",
        "  if row[1] == \"global\":\n",
        "    Label.append(1)\n",
        "  else:\n",
        "    Label.append(0)\n",
        "df[\"Label\"] = Label"
      ],
      "execution_count": 11,
      "outputs": []
    },
    {
      "cell_type": "markdown",
      "metadata": {
        "id": "vDzsjyocKhl3"
      },
      "source": [
        "**Sampling training dataset.**"
      ]
    },
    {
      "cell_type": "code",
      "metadata": {
        "id": "vBwe0qinKm12"
      },
      "source": [
        "from sklearn.model_selection import train_test_split # we sample our data by using data split"
      ],
      "execution_count": 12,
      "outputs": []
    },
    {
      "cell_type": "code",
      "metadata": {
        "id": "2ToYGs4MK9Su"
      },
      "source": [
        "df_train = df.sample(frac=0.8, random_state=200)\n"
      ],
      "execution_count": 13,
      "outputs": []
    },
    {
      "cell_type": "code",
      "metadata": {
        "id": "HdH__7K2Km5F"
      },
      "source": [
        "df_train, df_test = train_test_split(df, test_size=0.2)"
      ],
      "execution_count": 14,
      "outputs": []
    },
    {
      "cell_type": "code",
      "metadata": {
        "id": "Ek2lzZx7Jten",
        "colab": {
          "base_uri": "https://localhost:8080/",
          "height": 419
        },
        "outputId": "cad2f0c0-c9d6-4ea0-ed9b-5bd64973c5ab"
      },
      "source": [
        "df_train"
      ],
      "execution_count": 15,
      "outputs": [
        {
          "output_type": "execute_result",
          "data": {
            "text/html": [
              "<div>\n",
              "<style scoped>\n",
              "    .dataframe tbody tr th:only-of-type {\n",
              "        vertical-align: middle;\n",
              "    }\n",
              "\n",
              "    .dataframe tbody tr th {\n",
              "        vertical-align: top;\n",
              "    }\n",
              "\n",
              "    .dataframe thead th {\n",
              "        text-align: right;\n",
              "    }\n",
              "</style>\n",
              "<table border=\"1\" class=\"dataframe\">\n",
              "  <thead>\n",
              "    <tr style=\"text-align: right;\">\n",
              "      <th></th>\n",
              "      <th>statuses_text</th>\n",
              "      <th>tweets_location</th>\n",
              "      <th>message_creator</th>\n",
              "      <th>length</th>\n",
              "      <th>Label</th>\n",
              "    </tr>\n",
              "  </thead>\n",
              "  <tbody>\n",
              "    <tr>\n",
              "      <th>142259</th>\n",
              "      <td>rt nilikm breaking we just got a call from the...</td>\n",
              "      <td>global</td>\n",
              "      <td>Human</td>\n",
              "      <td>133</td>\n",
              "      <td>1</td>\n",
              "    </tr>\n",
              "    <tr>\n",
              "      <th>229238</th>\n",
              "      <td>narendramodi ji himself took the vaccine shot ...</td>\n",
              "      <td>global</td>\n",
              "      <td>Human</td>\n",
              "      <td>133</td>\n",
              "      <td>1</td>\n",
              "    </tr>\n",
              "    <tr>\n",
              "      <th>51802</th>\n",
              "      <td>rt jsphctrl âœein affrontâ  while south africa...</td>\n",
              "      <td>local</td>\n",
              "      <td>Human</td>\n",
              "      <td>137</td>\n",
              "      <td>0</td>\n",
              "    </tr>\n",
              "    <tr>\n",
              "      <th>41779</th>\n",
              "      <td>rt norbertelekes new south africa approves ind...</td>\n",
              "      <td>local</td>\n",
              "      <td>Human</td>\n",
              "      <td>80</td>\n",
              "      <td>0</td>\n",
              "    </tr>\n",
              "    <tr>\n",
              "      <th>16586</th>\n",
              "      <td>rt ancalerts pfizerbiontech say their covid va...</td>\n",
              "      <td>local</td>\n",
              "      <td>Human</td>\n",
              "      <td>125</td>\n",
              "      <td>0</td>\n",
              "    </tr>\n",
              "    <tr>\n",
              "      <th>...</th>\n",
              "      <td>...</td>\n",
              "      <td>...</td>\n",
              "      <td>...</td>\n",
              "      <td>...</td>\n",
              "      <td>...</td>\n",
              "    </tr>\n",
              "    <tr>\n",
              "      <th>188325</th>\n",
              "      <td>india waiting for sputnik v supplybut supplyin...</td>\n",
              "      <td>local</td>\n",
              "      <td>Human</td>\n",
              "      <td>95</td>\n",
              "      <td>0</td>\n",
              "    </tr>\n",
              "    <tr>\n",
              "      <th>195605</th>\n",
              "      <td>rt nytimes disparities in vaccine access betwe...</td>\n",
              "      <td>global</td>\n",
              "      <td>Human</td>\n",
              "      <td>138</td>\n",
              "      <td>1</td>\n",
              "    </tr>\n",
              "    <tr>\n",
              "      <th>279970</th>\n",
              "      <td>covid19 vaccine eligibility checker check to s...</td>\n",
              "      <td>global</td>\n",
              "      <td>Human</td>\n",
              "      <td>110</td>\n",
              "      <td>1</td>\n",
              "    </tr>\n",
              "    <tr>\n",
              "      <th>87232</th>\n",
              "      <td>rt florian_krammer south africa halts use of a...</td>\n",
              "      <td>local</td>\n",
              "      <td>Human</td>\n",
              "      <td>133</td>\n",
              "      <td>0</td>\n",
              "    </tr>\n",
              "    <tr>\n",
              "      <th>1375</th>\n",
              "      <td>rt revagoujon jampj vax 66 effective for moder...</td>\n",
              "      <td>local</td>\n",
              "      <td>Human</td>\n",
              "      <td>135</td>\n",
              "      <td>0</td>\n",
              "    </tr>\n",
              "  </tbody>\n",
              "</table>\n",
              "<p>323814 rows × 5 columns</p>\n",
              "</div>"
            ],
            "text/plain": [
              "                                            statuses_text  ... Label\n",
              "142259  rt nilikm breaking we just got a call from the...  ...     1\n",
              "229238  narendramodi ji himself took the vaccine shot ...  ...     1\n",
              "51802   rt jsphctrl âœein affrontâ  while south africa...  ...     0\n",
              "41779   rt norbertelekes new south africa approves ind...  ...     0\n",
              "16586   rt ancalerts pfizerbiontech say their covid va...  ...     0\n",
              "...                                                   ...  ...   ...\n",
              "188325  india waiting for sputnik v supplybut supplyin...  ...     0\n",
              "195605  rt nytimes disparities in vaccine access betwe...  ...     1\n",
              "279970  covid19 vaccine eligibility checker check to s...  ...     1\n",
              "87232   rt florian_krammer south africa halts use of a...  ...     0\n",
              "1375    rt revagoujon jampj vax 66 effective for moder...  ...     0\n",
              "\n",
              "[323814 rows x 5 columns]"
            ]
          },
          "metadata": {
            "tags": []
          },
          "execution_count": 15
        }
      ]
    },
    {
      "cell_type": "markdown",
      "metadata": {
        "id": "qM1nHXmMe8K9"
      },
      "source": [
        "**Model Training**"
      ]
    },
    {
      "cell_type": "code",
      "metadata": {
        "id": "hlSP2bklfEJt"
      },
      "source": [
        "# here we are importing nltk,stopwords and porterstemmer we are using stemming on the text \n",
        "# we have and stopwords will help in removing the stopwords in the text\n",
        "\n",
        "#re is regular expressions used for identifying only words in the text and ignoring anything else\n",
        "import nltk\n",
        "import re\n",
        "from nltk.corpus import stopwords\n",
        "from nltk.stem.porter import PorterStemmer"
      ],
      "execution_count": 16,
      "outputs": []
    },
    {
      "cell_type": "code",
      "metadata": {
        "id": "_m8XxpQonU5I"
      },
      "source": [
        "# importing neural network libraries\n",
        "from tensorflow.keras import Sequential\n",
        "from tensorflow.keras.layers import Flatten,Dense,Embedding,LSTM,Dropout\n",
        "from tensorflow.keras.preprocessing.text import one_hot\n",
        "from tensorflow.keras.preprocessing.sequence import pad_sequences"
      ],
      "execution_count": 17,
      "outputs": []
    },
    {
      "cell_type": "code",
      "metadata": {
        "id": "7i7UEzdnKdsG"
      },
      "source": [
        "# here we are setting vocabulary size\n",
        "voc_size=5000"
      ],
      "execution_count": 18,
      "outputs": []
    },
    {
      "cell_type": "code",
      "metadata": {
        "id": "wv4W9EOjKdve"
      },
      "source": [
        "x = df_train.drop('Label',axis = 1)\n",
        "y = df_train['Label']"
      ],
      "execution_count": 19,
      "outputs": []
    },
    {
      "cell_type": "code",
      "metadata": {
        "id": "cmyUmlf_epfl",
        "colab": {
          "base_uri": "https://localhost:8080/",
          "height": 419
        },
        "outputId": "72834fbd-4499-4588-9122-eb842acafe61"
      },
      "source": [
        "x"
      ],
      "execution_count": 20,
      "outputs": [
        {
          "output_type": "execute_result",
          "data": {
            "text/html": [
              "<div>\n",
              "<style scoped>\n",
              "    .dataframe tbody tr th:only-of-type {\n",
              "        vertical-align: middle;\n",
              "    }\n",
              "\n",
              "    .dataframe tbody tr th {\n",
              "        vertical-align: top;\n",
              "    }\n",
              "\n",
              "    .dataframe thead th {\n",
              "        text-align: right;\n",
              "    }\n",
              "</style>\n",
              "<table border=\"1\" class=\"dataframe\">\n",
              "  <thead>\n",
              "    <tr style=\"text-align: right;\">\n",
              "      <th></th>\n",
              "      <th>statuses_text</th>\n",
              "      <th>tweets_location</th>\n",
              "      <th>message_creator</th>\n",
              "      <th>length</th>\n",
              "    </tr>\n",
              "  </thead>\n",
              "  <tbody>\n",
              "    <tr>\n",
              "      <th>142259</th>\n",
              "      <td>rt nilikm breaking we just got a call from the...</td>\n",
              "      <td>global</td>\n",
              "      <td>Human</td>\n",
              "      <td>133</td>\n",
              "    </tr>\n",
              "    <tr>\n",
              "      <th>229238</th>\n",
              "      <td>narendramodi ji himself took the vaccine shot ...</td>\n",
              "      <td>global</td>\n",
              "      <td>Human</td>\n",
              "      <td>133</td>\n",
              "    </tr>\n",
              "    <tr>\n",
              "      <th>51802</th>\n",
              "      <td>rt jsphctrl âœein affrontâ  while south africa...</td>\n",
              "      <td>local</td>\n",
              "      <td>Human</td>\n",
              "      <td>137</td>\n",
              "    </tr>\n",
              "    <tr>\n",
              "      <th>41779</th>\n",
              "      <td>rt norbertelekes new south africa approves ind...</td>\n",
              "      <td>local</td>\n",
              "      <td>Human</td>\n",
              "      <td>80</td>\n",
              "    </tr>\n",
              "    <tr>\n",
              "      <th>16586</th>\n",
              "      <td>rt ancalerts pfizerbiontech say their covid va...</td>\n",
              "      <td>local</td>\n",
              "      <td>Human</td>\n",
              "      <td>125</td>\n",
              "    </tr>\n",
              "    <tr>\n",
              "      <th>...</th>\n",
              "      <td>...</td>\n",
              "      <td>...</td>\n",
              "      <td>...</td>\n",
              "      <td>...</td>\n",
              "    </tr>\n",
              "    <tr>\n",
              "      <th>188325</th>\n",
              "      <td>india waiting for sputnik v supplybut supplyin...</td>\n",
              "      <td>local</td>\n",
              "      <td>Human</td>\n",
              "      <td>95</td>\n",
              "    </tr>\n",
              "    <tr>\n",
              "      <th>195605</th>\n",
              "      <td>rt nytimes disparities in vaccine access betwe...</td>\n",
              "      <td>global</td>\n",
              "      <td>Human</td>\n",
              "      <td>138</td>\n",
              "    </tr>\n",
              "    <tr>\n",
              "      <th>279970</th>\n",
              "      <td>covid19 vaccine eligibility checker check to s...</td>\n",
              "      <td>global</td>\n",
              "      <td>Human</td>\n",
              "      <td>110</td>\n",
              "    </tr>\n",
              "    <tr>\n",
              "      <th>87232</th>\n",
              "      <td>rt florian_krammer south africa halts use of a...</td>\n",
              "      <td>local</td>\n",
              "      <td>Human</td>\n",
              "      <td>133</td>\n",
              "    </tr>\n",
              "    <tr>\n",
              "      <th>1375</th>\n",
              "      <td>rt revagoujon jampj vax 66 effective for moder...</td>\n",
              "      <td>local</td>\n",
              "      <td>Human</td>\n",
              "      <td>135</td>\n",
              "    </tr>\n",
              "  </tbody>\n",
              "</table>\n",
              "<p>323814 rows × 4 columns</p>\n",
              "</div>"
            ],
            "text/plain": [
              "                                            statuses_text  ... length\n",
              "142259  rt nilikm breaking we just got a call from the...  ...    133\n",
              "229238  narendramodi ji himself took the vaccine shot ...  ...    133\n",
              "51802   rt jsphctrl âœein affrontâ  while south africa...  ...    137\n",
              "41779   rt norbertelekes new south africa approves ind...  ...     80\n",
              "16586   rt ancalerts pfizerbiontech say their covid va...  ...    125\n",
              "...                                                   ...  ...    ...\n",
              "188325  india waiting for sputnik v supplybut supplyin...  ...     95\n",
              "195605  rt nytimes disparities in vaccine access betwe...  ...    138\n",
              "279970  covid19 vaccine eligibility checker check to s...  ...    110\n",
              "87232   rt florian_krammer south africa halts use of a...  ...    133\n",
              "1375    rt revagoujon jampj vax 66 effective for moder...  ...    135\n",
              "\n",
              "[323814 rows x 4 columns]"
            ]
          },
          "metadata": {
            "tags": []
          },
          "execution_count": 20
        }
      ]
    },
    {
      "cell_type": "code",
      "metadata": {
        "id": "dQfz4OMke5Ay"
      },
      "source": [
        ""
      ],
      "execution_count": 20,
      "outputs": []
    },
    {
      "cell_type": "code",
      "metadata": {
        "id": "LGrmuvicKdy5"
      },
      "source": [
        "messages = x.copy()\n",
        "##Since we drop Null values from our Dataset ,so we need to Reset Index of our Dataset\n",
        "messages.reset_index(inplace=True)"
      ],
      "execution_count": 21,
      "outputs": []
    },
    {
      "cell_type": "code",
      "metadata": {
        "id": "ZyYMpCz0f0tl",
        "colab": {
          "base_uri": "https://localhost:8080/",
          "height": 419
        },
        "outputId": "ce6bc15d-c10b-4768-df19-c932732368a2"
      },
      "source": [
        "messages"
      ],
      "execution_count": 22,
      "outputs": [
        {
          "output_type": "execute_result",
          "data": {
            "text/html": [
              "<div>\n",
              "<style scoped>\n",
              "    .dataframe tbody tr th:only-of-type {\n",
              "        vertical-align: middle;\n",
              "    }\n",
              "\n",
              "    .dataframe tbody tr th {\n",
              "        vertical-align: top;\n",
              "    }\n",
              "\n",
              "    .dataframe thead th {\n",
              "        text-align: right;\n",
              "    }\n",
              "</style>\n",
              "<table border=\"1\" class=\"dataframe\">\n",
              "  <thead>\n",
              "    <tr style=\"text-align: right;\">\n",
              "      <th></th>\n",
              "      <th>index</th>\n",
              "      <th>statuses_text</th>\n",
              "      <th>tweets_location</th>\n",
              "      <th>message_creator</th>\n",
              "      <th>length</th>\n",
              "    </tr>\n",
              "  </thead>\n",
              "  <tbody>\n",
              "    <tr>\n",
              "      <th>0</th>\n",
              "      <td>142259</td>\n",
              "      <td>rt nilikm breaking we just got a call from the...</td>\n",
              "      <td>global</td>\n",
              "      <td>Human</td>\n",
              "      <td>133</td>\n",
              "    </tr>\n",
              "    <tr>\n",
              "      <th>1</th>\n",
              "      <td>229238</td>\n",
              "      <td>narendramodi ji himself took the vaccine shot ...</td>\n",
              "      <td>global</td>\n",
              "      <td>Human</td>\n",
              "      <td>133</td>\n",
              "    </tr>\n",
              "    <tr>\n",
              "      <th>2</th>\n",
              "      <td>51802</td>\n",
              "      <td>rt jsphctrl âœein affrontâ  while south africa...</td>\n",
              "      <td>local</td>\n",
              "      <td>Human</td>\n",
              "      <td>137</td>\n",
              "    </tr>\n",
              "    <tr>\n",
              "      <th>3</th>\n",
              "      <td>41779</td>\n",
              "      <td>rt norbertelekes new south africa approves ind...</td>\n",
              "      <td>local</td>\n",
              "      <td>Human</td>\n",
              "      <td>80</td>\n",
              "    </tr>\n",
              "    <tr>\n",
              "      <th>4</th>\n",
              "      <td>16586</td>\n",
              "      <td>rt ancalerts pfizerbiontech say their covid va...</td>\n",
              "      <td>local</td>\n",
              "      <td>Human</td>\n",
              "      <td>125</td>\n",
              "    </tr>\n",
              "    <tr>\n",
              "      <th>...</th>\n",
              "      <td>...</td>\n",
              "      <td>...</td>\n",
              "      <td>...</td>\n",
              "      <td>...</td>\n",
              "      <td>...</td>\n",
              "    </tr>\n",
              "    <tr>\n",
              "      <th>323809</th>\n",
              "      <td>188325</td>\n",
              "      <td>india waiting for sputnik v supplybut supplyin...</td>\n",
              "      <td>local</td>\n",
              "      <td>Human</td>\n",
              "      <td>95</td>\n",
              "    </tr>\n",
              "    <tr>\n",
              "      <th>323810</th>\n",
              "      <td>195605</td>\n",
              "      <td>rt nytimes disparities in vaccine access betwe...</td>\n",
              "      <td>global</td>\n",
              "      <td>Human</td>\n",
              "      <td>138</td>\n",
              "    </tr>\n",
              "    <tr>\n",
              "      <th>323811</th>\n",
              "      <td>279970</td>\n",
              "      <td>covid19 vaccine eligibility checker check to s...</td>\n",
              "      <td>global</td>\n",
              "      <td>Human</td>\n",
              "      <td>110</td>\n",
              "    </tr>\n",
              "    <tr>\n",
              "      <th>323812</th>\n",
              "      <td>87232</td>\n",
              "      <td>rt florian_krammer south africa halts use of a...</td>\n",
              "      <td>local</td>\n",
              "      <td>Human</td>\n",
              "      <td>133</td>\n",
              "    </tr>\n",
              "    <tr>\n",
              "      <th>323813</th>\n",
              "      <td>1375</td>\n",
              "      <td>rt revagoujon jampj vax 66 effective for moder...</td>\n",
              "      <td>local</td>\n",
              "      <td>Human</td>\n",
              "      <td>135</td>\n",
              "    </tr>\n",
              "  </tbody>\n",
              "</table>\n",
              "<p>323814 rows × 5 columns</p>\n",
              "</div>"
            ],
            "text/plain": [
              "         index  ... length\n",
              "0       142259  ...    133\n",
              "1       229238  ...    133\n",
              "2        51802  ...    137\n",
              "3        41779  ...     80\n",
              "4        16586  ...    125\n",
              "...        ...  ...    ...\n",
              "323809  188325  ...     95\n",
              "323810  195605  ...    138\n",
              "323811  279970  ...    110\n",
              "323812   87232  ...    133\n",
              "323813    1375  ...    135\n",
              "\n",
              "[323814 rows x 5 columns]"
            ]
          },
          "metadata": {
            "tags": []
          },
          "execution_count": 22
        }
      ]
    },
    {
      "cell_type": "code",
      "metadata": {
        "id": "FxMytIPoUVTl"
      },
      "source": [
        "\n",
        "from matplotlib import pyplot as plt\n",
        "%matplotlib inline"
      ],
      "execution_count": 23,
      "outputs": []
    },
    {
      "cell_type": "code",
      "metadata": {
        "id": "yPugwoEKTxHu"
      },
      "source": [
        "from sklearn.metrics import accuracy_score"
      ],
      "execution_count": 24,
      "outputs": []
    },
    {
      "cell_type": "code",
      "metadata": {
        "id": "6W9BspU4Kd2Q",
        "colab": {
          "base_uri": "https://localhost:8080/"
        },
        "outputId": "e6b7c362-20b1-48cd-cfd9-c14b6fad7c77"
      },
      "source": [
        "nltk.download(\"stopwords\")"
      ],
      "execution_count": 25,
      "outputs": [
        {
          "output_type": "stream",
          "text": [
            "[nltk_data] Downloading package stopwords to /root/nltk_data...\n",
            "[nltk_data]   Unzipping corpora/stopwords.zip.\n"
          ],
          "name": "stdout"
        },
        {
          "output_type": "execute_result",
          "data": {
            "text/plain": [
              "True"
            ]
          },
          "metadata": {
            "tags": []
          },
          "execution_count": 25
        }
      ]
    },
    {
      "cell_type": "code",
      "metadata": {
        "id": "Z_vcEXQXKd42",
        "colab": {
          "base_uri": "https://localhost:8080/"
        },
        "outputId": "0b64a210-71a8-4ec8-9d93-3a0f04bcb819"
      },
      "source": [
        "print(stopwords)"
      ],
      "execution_count": 26,
      "outputs": [
        {
          "output_type": "stream",
          "text": [
            "<WordListCorpusReader in '.../corpora/stopwords' (not loaded yet)>\n"
          ],
          "name": "stdout"
        }
      ]
    },
    {
      "cell_type": "markdown",
      "metadata": {
        "id": "GiCQXl6KgYhN"
      },
      "source": [
        "*This cell will take a bit longer*"
      ]
    },
    {
      "cell_type": "code",
      "metadata": {
        "id": "DyHLkvLbKepW"
      },
      "source": [
        "ps = PorterStemmer()\n",
        "corpus = []\n",
        "for i in range(0,len(messages)):\n",
        "    result = re.sub('[^a-zA-Z]',' ',messages['statuses_text'][i])  \n",
        "    result = result.lower()\n",
        "    result = result.split()\n",
        "    \n",
        "    result = [ps.stem(word) for word in result if not word in stopwords.words(\"english\")]\n",
        "    result = \" \".join(result)\n",
        "    corpus.append(result)"
      ],
      "execution_count": 27,
      "outputs": []
    },
    {
      "cell_type": "code",
      "metadata": {
        "id": "ORjQLe6Kf_8Q"
      },
      "source": [
        "onehot_repr = [one_hot(words,voc_size) for words in corpus]"
      ],
      "execution_count": 28,
      "outputs": []
    },
    {
      "cell_type": "code",
      "metadata": {
        "id": "c6nQ6awjgAAt"
      },
      "source": [
        "sent_length = 20\n",
        "embeded_docs = pad_sequences(onehot_repr,padding= 'pre',maxlen = sent_length)"
      ],
      "execution_count": 29,
      "outputs": []
    },
    {
      "cell_type": "code",
      "metadata": {
        "id": "ITZyRumIKesF"
      },
      "source": [
        "embedding_vector_features = 40\n",
        "model = Sequential()\n",
        "model.add(Embedding(voc_size,embedding_vector_features,input_length = sent_length))\n",
        "model.add(Dropout(0.3))\n",
        "model.add(LSTM(100))\n",
        "model.add(Dropout(0.3))\n",
        "model.add(Dense(1,activation='sigmoid'))\n",
        "model.compile(optimizer = 'adam',loss ='binary_crossentropy',metrics=['accuracy'])"
      ],
      "execution_count": 30,
      "outputs": []
    },
    {
      "cell_type": "code",
      "metadata": {
        "id": "zBKs7eXvJthm"
      },
      "source": [
        "x_final = np.array(embeded_docs)\n",
        "y_final = np.array(y)\n",
        "x_train,x_val,y_train,y_val = train_test_split(x_final,y_final,test_size=0.33,random_state=42)"
      ],
      "execution_count": 31,
      "outputs": []
    },
    {
      "cell_type": "code",
      "metadata": {
        "id": "uQRW1EXzgJq1",
        "colab": {
          "base_uri": "https://localhost:8080/"
        },
        "outputId": "d96e5353-fe0c-42c7-ca4f-ff1703844ca3"
      },
      "source": [
        "model.summary()"
      ],
      "execution_count": 32,
      "outputs": [
        {
          "output_type": "stream",
          "text": [
            "Model: \"sequential\"\n",
            "_________________________________________________________________\n",
            "Layer (type)                 Output Shape              Param #   \n",
            "=================================================================\n",
            "embedding (Embedding)        (None, 20, 40)            200000    \n",
            "_________________________________________________________________\n",
            "dropout (Dropout)            (None, 20, 40)            0         \n",
            "_________________________________________________________________\n",
            "lstm (LSTM)                  (None, 100)               56400     \n",
            "_________________________________________________________________\n",
            "dropout_1 (Dropout)          (None, 100)               0         \n",
            "_________________________________________________________________\n",
            "dense (Dense)                (None, 1)                 101       \n",
            "=================================================================\n",
            "Total params: 256,501\n",
            "Trainable params: 256,501\n",
            "Non-trainable params: 0\n",
            "_________________________________________________________________\n"
          ],
          "name": "stdout"
        }
      ]
    },
    {
      "cell_type": "code",
      "metadata": {
        "id": "_HVals2Go1q6",
        "colab": {
          "base_uri": "https://localhost:8080/"
        },
        "outputId": "2220c14e-32df-417f-bd6c-6a7975da452b"
      },
      "source": [
        "y_train"
      ],
      "execution_count": 33,
      "outputs": [
        {
          "output_type": "execute_result",
          "data": {
            "text/plain": [
              "array([1, 0, 1, ..., 1, 1, 1])"
            ]
          },
          "metadata": {
            "tags": []
          },
          "execution_count": 33
        }
      ]
    },
    {
      "cell_type": "code",
      "metadata": {
        "id": "tKQ46qx8gJuD",
        "colab": {
          "base_uri": "https://localhost:8080/"
        },
        "outputId": "615f0531-ec32-4a7c-ed46-9f57144d4de1"
      },
      "source": [
        "history = model.fit(x_train,y_train,validation_data =(x_val,y_val),batch_size=64,epochs=10)"
      ],
      "execution_count": 34,
      "outputs": [
        {
          "output_type": "stream",
          "text": [
            "Epoch 1/10\n",
            "3390/3390 [==============================] - 122s 35ms/step - loss: 0.0872 - accuracy: 0.9723 - val_loss: 0.0621 - val_accuracy: 0.9815\n",
            "Epoch 2/10\n",
            "3390/3390 [==============================] - 118s 35ms/step - loss: 0.0496 - accuracy: 0.9854 - val_loss: 0.0501 - val_accuracy: 0.9855\n",
            "Epoch 3/10\n",
            "3390/3390 [==============================] - 120s 35ms/step - loss: 0.0372 - accuracy: 0.9888 - val_loss: 0.0471 - val_accuracy: 0.9870\n",
            "Epoch 4/10\n",
            "3390/3390 [==============================] - 116s 34ms/step - loss: 0.0289 - accuracy: 0.9910 - val_loss: 0.0447 - val_accuracy: 0.9875\n",
            "Epoch 5/10\n",
            "3390/3390 [==============================] - 115s 34ms/step - loss: 0.0227 - accuracy: 0.9927 - val_loss: 0.0451 - val_accuracy: 0.9878\n",
            "Epoch 6/10\n",
            "3390/3390 [==============================] - 116s 34ms/step - loss: 0.0183 - accuracy: 0.9940 - val_loss: 0.0516 - val_accuracy: 0.9876\n",
            "Epoch 7/10\n",
            "3390/3390 [==============================] - 120s 35ms/step - loss: 0.0147 - accuracy: 0.9951 - val_loss: 0.0507 - val_accuracy: 0.9887\n",
            "Epoch 8/10\n",
            "3390/3390 [==============================] - 119s 35ms/step - loss: 0.0119 - accuracy: 0.9960 - val_loss: 0.0519 - val_accuracy: 0.9885\n",
            "Epoch 9/10\n",
            "3390/3390 [==============================] - 117s 34ms/step - loss: 0.0104 - accuracy: 0.9966 - val_loss: 0.0541 - val_accuracy: 0.9883\n",
            "Epoch 10/10\n",
            "3390/3390 [==============================] - 118s 35ms/step - loss: 0.0089 - accuracy: 0.9970 - val_loss: 0.0601 - val_accuracy: 0.9882\n"
          ],
          "name": "stdout"
        }
      ]
    },
    {
      "cell_type": "code",
      "metadata": {
        "id": "zKTwrJ8ygJxG"
      },
      "source": [
        "def plot_learning_curve(history,epochs):\n",
        "    #Accuracy\n",
        "    epoch_range = range(1,epochs+1)\n",
        "    plt.plot(epoch_range,history.history['accuracy'])\n",
        "    plt.plot(epoch_range,history.history[\"val_accuracy\"])\n",
        "    plt.xlabel(\"Epochs\")\n",
        "    plt.ylabel(\"Accuracy\")\n",
        "    plt.legend([\"Train\",\"Val\"],loc =\"upper left\")\n",
        "    plt.show()"
      ],
      "execution_count": 35,
      "outputs": []
    },
    {
      "cell_type": "code",
      "metadata": {
        "id": "vjs7DROkULRN",
        "colab": {
          "base_uri": "https://localhost:8080/",
          "height": 296
        },
        "outputId": "68ccf3d9-4b31-4d0f-956e-16461293bbad"
      },
      "source": [
        "plot_learning_curve(history,10)\n",
        "plt.savefig('Accuracy')"
      ],
      "execution_count": 36,
      "outputs": [
        {
          "output_type": "display_data",
          "data": {
            "image/png": "[encoded data removed]",
            "text/plain": [
              "<Figure size 432x288 with 1 Axes>"
            ]
          },
          "metadata": {
            "tags": [],
            "needs_background": "light"
          }
        },
        {
          "output_type": "display_data",
          "data": {
            "text/plain": [
              "<Figure size 432x288 with 0 Axes>"
            ]
          },
          "metadata": {
            "tags": []
          }
        }
      ]
    },
    {
      "cell_type": "code",
      "metadata": {
        "id": "7hoVPZCLgJz9",
        "colab": {
          "base_uri": "https://localhost:8080/"
        },
        "outputId": "f322fa6a-0391-4661-8511-91b84ca5df14"
      },
      "source": [
        "y_pred = model.predict_classes(x_val)\n",
        "accuracy_score(y_val,y_pred)"
      ],
      "execution_count": 37,
      "outputs": [
        {
          "output_type": "stream",
          "text": [
            "/usr/local/lib/python3.7/dist-packages/tensorflow/python/keras/engine/sequential.py:455: UserWarning: `model.predict_classes()` is deprecated and will be removed after 2021-01-01. Please use instead:* `np.argmax(model.predict(x), axis=-1)`,   if your model does multi-class classification   (e.g. if it uses a `softmax` last-layer activation).* `(model.predict(x) > 0.5).astype(\"int32\")`,   if your model does binary classification   (e.g. if it uses a `sigmoid` last-layer activation).\n",
            "  warnings.warn('`model.predict_classes()` is deprecated and '\n"
          ],
          "name": "stderr"
        },
        {
          "output_type": "execute_result",
          "data": {
            "text/plain": [
              "0.9881619704470377"
            ]
          },
          "metadata": {
            "tags": []
          },
          "execution_count": 37
        }
      ]
    },
    {
      "cell_type": "code",
      "metadata": {
        "id": "Bt6_NQiEgJ2s",
        "colab": {
          "base_uri": "https://localhost:8080/",
          "height": 422
        },
        "outputId": "e28b1abd-f15a-4961-b7e8-919260ee5082"
      },
      "source": [
        "from mlxtend.plotting import plot_confusion_matrix\n",
        "from sklearn.metrics import confusion_matrix\n",
        "mat = confusion_matrix(y_val,y_pred)\n",
        "plot_confusion_matrix(mat,figsize=(6,6),show_normed=True)"
      ],
      "execution_count": 38,
      "outputs": [
        {
          "output_type": "execute_result",
          "data": {
            "text/plain": [
              "(<Figure size 432x432 with 1 Axes>,\n",
              " <matplotlib.axes._subplots.AxesSubplot at 0x7f740f917950>)"
            ]
          },
          "metadata": {
            "tags": []
          },
          "execution_count": 38
        },
        {
          "output_type": "display_data",
          "data": {
            "image/png": "[encoded data removed]",
            "text/plain": [
              "<Figure size 432x432 with 1 Axes>"
            ]
          },
          "metadata": {
            "tags": [],
            "needs_background": "light"
          }
        }
      ]
    },
    {
      "cell_type": "markdown",
      "metadata": {
        "id": "f6J2IopyXS-o"
      },
      "source": [
        "\n",
        "**Local/global detection using Naive bayes Classifier**"
      ]
    },
    {
      "cell_type": "code",
      "metadata": {
        "id": "HhJaA71JeBqm"
      },
      "source": [
        "import pandas as pd\n",
        "import numpy as np\n",
        "import os\n",
        "from sklearn.feature_extraction.text import CountVectorizer, TfidfVectorizer # Bag of Words: Term Frequencey and TFIDF\n",
        "from sklearn.model_selection import train_test_split\n",
        "from sklearn.linear_model import LogisticRegression\n",
        "from sklearn.model_selection import cross_val_score"
      ],
      "execution_count": 39,
      "outputs": []
    },
    {
      "cell_type": "code",
      "metadata": {
        "id": "VtndL_bNS-bh"
      },
      "source": [
        "import matplotlib.pyplot as plt\n",
        "import seaborn as sns\n",
        "%matplotlib inline"
      ],
      "execution_count": 40,
      "outputs": []
    },
    {
      "cell_type": "code",
      "metadata": {
        "id": "GtxfggBwPpy9",
        "colab": {
          "base_uri": "https://localhost:8080/",
          "height": 173
        },
        "outputId": "aafc6990-adc3-48fc-9340-98011ec2002a"
      },
      "source": [
        "df.groupby('tweets_location').describe()"
      ],
      "execution_count": 41,
      "outputs": [
        {
          "output_type": "execute_result",
          "data": {
            "text/html": [
              "<div>\n",
              "<style scoped>\n",
              "    .dataframe tbody tr th:only-of-type {\n",
              "        vertical-align: middle;\n",
              "    }\n",
              "\n",
              "    .dataframe tbody tr th {\n",
              "        vertical-align: top;\n",
              "    }\n",
              "\n",
              "    .dataframe thead tr th {\n",
              "        text-align: left;\n",
              "    }\n",
              "\n",
              "    .dataframe thead tr:last-of-type th {\n",
              "        text-align: right;\n",
              "    }\n",
              "</style>\n",
              "<table border=\"1\" class=\"dataframe\">\n",
              "  <thead>\n",
              "    <tr>\n",
              "      <th></th>\n",
              "      <th colspan=\"8\" halign=\"left\">length</th>\n",
              "      <th colspan=\"8\" halign=\"left\">Label</th>\n",
              "    </tr>\n",
              "    <tr>\n",
              "      <th></th>\n",
              "      <th>count</th>\n",
              "      <th>mean</th>\n",
              "      <th>std</th>\n",
              "      <th>min</th>\n",
              "      <th>25%</th>\n",
              "      <th>50%</th>\n",
              "      <th>75%</th>\n",
              "      <th>max</th>\n",
              "      <th>count</th>\n",
              "      <th>mean</th>\n",
              "      <th>std</th>\n",
              "      <th>min</th>\n",
              "      <th>25%</th>\n",
              "      <th>50%</th>\n",
              "      <th>75%</th>\n",
              "      <th>max</th>\n",
              "    </tr>\n",
              "    <tr>\n",
              "      <th>tweets_location</th>\n",
              "      <th></th>\n",
              "      <th></th>\n",
              "      <th></th>\n",
              "      <th></th>\n",
              "      <th></th>\n",
              "      <th></th>\n",
              "      <th></th>\n",
              "      <th></th>\n",
              "      <th></th>\n",
              "      <th></th>\n",
              "      <th></th>\n",
              "      <th></th>\n",
              "      <th></th>\n",
              "      <th></th>\n",
              "      <th></th>\n",
              "      <th></th>\n",
              "    </tr>\n",
              "  </thead>\n",
              "  <tbody>\n",
              "    <tr>\n",
              "      <th>global</th>\n",
              "      <td>253077.0</td>\n",
              "      <td>122.994954</td>\n",
              "      <td>22.942122</td>\n",
              "      <td>9.0</td>\n",
              "      <td>123.0</td>\n",
              "      <td>133.0</td>\n",
              "      <td>136.0</td>\n",
              "      <td>183.0</td>\n",
              "      <td>253077.0</td>\n",
              "      <td>1.0</td>\n",
              "      <td>0.0</td>\n",
              "      <td>1.0</td>\n",
              "      <td>1.0</td>\n",
              "      <td>1.0</td>\n",
              "      <td>1.0</td>\n",
              "      <td>1.0</td>\n",
              "    </tr>\n",
              "    <tr>\n",
              "      <th>local</th>\n",
              "      <td>151691.0</td>\n",
              "      <td>128.645345</td>\n",
              "      <td>14.447340</td>\n",
              "      <td>21.0</td>\n",
              "      <td>130.0</td>\n",
              "      <td>134.0</td>\n",
              "      <td>136.0</td>\n",
              "      <td>173.0</td>\n",
              "      <td>151691.0</td>\n",
              "      <td>0.0</td>\n",
              "      <td>0.0</td>\n",
              "      <td>0.0</td>\n",
              "      <td>0.0</td>\n",
              "      <td>0.0</td>\n",
              "      <td>0.0</td>\n",
              "      <td>0.0</td>\n",
              "    </tr>\n",
              "  </tbody>\n",
              "</table>\n",
              "</div>"
            ],
            "text/plain": [
              "                   length                               ... Label               \n",
              "                    count        mean        std   min  ...   25%  50%  75%  max\n",
              "tweets_location                                         ...                     \n",
              "global           253077.0  122.994954  22.942122   9.0  ...   1.0  1.0  1.0  1.0\n",
              "local            151691.0  128.645345  14.447340  21.0  ...   0.0  0.0  0.0  0.0\n",
              "\n",
              "[2 rows x 16 columns]"
            ]
          },
          "metadata": {
            "tags": []
          },
          "execution_count": 41
        }
      ]
    },
    {
      "cell_type": "code",
      "metadata": {
        "id": "nYSwUtqPS_7L",
        "colab": {
          "base_uri": "https://localhost:8080/",
          "height": 283
        },
        "outputId": "4da86fdd-948e-4193-febb-6e0f98cc9f14"
      },
      "source": [
        "df['length'].plot(bins=50,kind='hist')"
      ],
      "execution_count": 42,
      "outputs": [
        {
          "output_type": "execute_result",
          "data": {
            "text/plain": [
              "<matplotlib.axes._subplots.AxesSubplot at 0x7f740f065210>"
            ]
          },
          "metadata": {
            "tags": []
          },
          "execution_count": 42
        },
        {
          "output_type": "display_data",
          "data": {
            "image/png": "[encoded data removed]",
            "text/plain": [
              "<Figure size 432x288 with 1 Axes>"
            ]
          },
          "metadata": {
            "tags": [],
            "needs_background": "light"
          }
        }
      ]
    },
    {
      "cell_type": "code",
      "metadata": {
        "id": "knUhEIY3TLQ0",
        "colab": {
          "base_uri": "https://localhost:8080/"
        },
        "outputId": "fd4a05b7-c24f-48dc-aa25-23cdb9f7ada0"
      },
      "source": [
        "df.length.describe()"
      ],
      "execution_count": 43,
      "outputs": [
        {
          "output_type": "execute_result",
          "data": {
            "text/plain": [
              "count    404768.000000\n",
              "mean        125.112497\n",
              "std          20.366431\n",
              "min           9.000000\n",
              "25%         127.000000\n",
              "50%         134.000000\n",
              "75%         136.000000\n",
              "max         183.000000\n",
              "Name: length, dtype: float64"
            ]
          },
          "metadata": {
            "tags": []
          },
          "execution_count": 43
        }
      ]
    },
    {
      "cell_type": "code",
      "metadata": {
        "id": "2luq6F96TRuF",
        "colab": {
          "base_uri": "https://localhost:8080/",
          "height": 35
        },
        "outputId": "c675e2fd-f5ed-4a37-cc5c-d7530465d484"
      },
      "source": [
        "df[df['length']==183]['statuses_text'].iloc[0]"
      ],
      "execution_count": 44,
      "outputs": [
        {
          "output_type": "execute_result",
          "data": {
            "application/vnd.google.colaboratory.intrinsic+json": {
              "type": "string"
            },
            "text/plain": [
              "'rt thesanghitroll royal family saas bahu drama amp oprah winfrey overacting gtgtgtgtgtgtgtgtgtgtgtgtgtgtgtgtgtgtgtgtgtgtgtgtgtgtgtgtgtgtgtgtgtgtgtgtgtgtgtgtgtgtgtgt indias vaccine roâ'"
            ]
          },
          "metadata": {
            "tags": []
          },
          "execution_count": 44
        }
      ]
    },
    {
      "cell_type": "markdown",
      "metadata": {
        "id": "n8GQpIf-Pw9u"
      },
      "source": [
        "**Text Pre-processing**\n",
        "\n",
        "The classification algorithms that we've used so far needs some sort of numerical feature vector in order to perform the classification task. There are actually many methods to convert a corpus to a vector format. The simplest is the the bag-of-words approach, where each unique word in a text will be represented by one number.\n",
        "\n",
        "In this section we'll convert the raw messages (sequence of characters) into vectors (sequences of numbers).\n",
        "\n",
        "As a first step, we will write a function that will split a message into its individual words and return a list. We'll also remove very common words, ('the', It's pretty much the standard library in Python for processing text and has a lo'a', etc..). To do this we will use the NLTK."
      ]
    },
    {
      "cell_type": "code",
      "metadata": {
        "id": "7V1OnzuFQFvl"
      },
      "source": [
        "# YOUR CODE HERE\n",
        "# train and test data split by 70%(0.7) training data and 30% (0.3)testing data\n",
        "text_train, text_test, y_train, y_test = train_test_split(\n",
        "   df.statuses_text, df.Label, test_size=0.3, random_state=42)"
      ],
      "execution_count": 45,
      "outputs": []
    },
    {
      "cell_type": "code",
      "metadata": {
        "id": "YIl_acw2qDWX"
      },
      "source": [
        ""
      ],
      "execution_count": 45,
      "outputs": []
    },
    {
      "cell_type": "markdown",
      "metadata": {
        "id": "3mS1I55XQPfs"
      },
      "source": [
        "**Binary Classifier for TFIDF and Word-Frequency**\n",
        "\n",
        "With messages represented as vectors, we can finally train our spam/ham classifier. Now we can actually use almost any sort of classification algorithms. For a variety of reasons, the Naive Bayes classifier algorithm is a good choice."
      ]
    },
    {
      "cell_type": "code",
      "metadata": {
        "id": "O-JJFJUsQFzG"
      },
      "source": [
        "def initialise_term_frequency_vectorizer(data):\n",
        "    vectorizer_tf = CountVectorizer()\n",
        "    vectorizer_tf.fit(data)\n",
        "    X = vectorizer_tf.transform(data)\n",
        "    return X, vectorizer_tf\n",
        "\n",
        "def initialise_tfidf_vectorizer(data):\n",
        "    vectorizer_tfidf = TfidfVectorizer()\n",
        "    vectorizer_tfidf.fit(data)\n",
        "    X = vectorizer_tfidf.transform(data)\n",
        "    return X, vectorizer_tfidf"
      ],
      "execution_count": 46,
      "outputs": []
    },
    {
      "cell_type": "code",
      "metadata": {
        "id": "CpgRxrFzo-1l"
      },
      "source": [
        "\"\"\"Check that squares returns the correct output for several inputs\"\"\"\n",
        "X_train, vectorizer_tf = initialise_term_frequency_vectorizer(text_train)\n",
        "X_train_tfidf, vectorizer_tfidf = initialise_tfidf_vectorizer(text_train)"
      ],
      "execution_count": 47,
      "outputs": []
    },
    {
      "cell_type": "code",
      "metadata": {
        "id": "a_o4reNvpUZG",
        "colab": {
          "base_uri": "https://localhost:8080/"
        },
        "outputId": "84dd3f06-e655-4263-da83-df7da9feb26d"
      },
      "source": [
        "X_train_tfidf.shape"
      ],
      "execution_count": 48,
      "outputs": [
        {
          "output_type": "execute_result",
          "data": {
            "text/plain": [
              "(283337, 148029)"
            ]
          },
          "metadata": {
            "tags": []
          },
          "execution_count": 48
        }
      ]
    },
    {
      "cell_type": "markdown",
      "metadata": {
        "id": "_8K21YPUQip-"
      },
      "source": [
        "Now We've developed a model that can attempt to predict local vs global classification"
      ]
    },
    {
      "cell_type": "markdown",
      "metadata": {
        "id": "spjN7KIjq1jv"
      },
      "source": [
        "**Logistic regression with word frequency data**"
      ]
    },
    {
      "cell_type": "code",
      "metadata": {
        "id": "szYy9dgcqyW4",
        "colab": {
          "base_uri": "https://localhost:8080/"
        },
        "outputId": "11fccbc8-ef47-48de-9491-b72ade8d49b1"
      },
      "source": [
        "clf =  LogisticRegression(random_state=0, max_iter=1000).fit(X_train , y_train)\n",
        "scores = cross_val_score(clf, X_train , y_train, cv=5) # cv is the length whivh is 5, in our case based on assert test.\n",
        "# YOUR CODE SHOULD BE ABOVE THIS LINE\n",
        "print(\"5-fold Cross-Validation Accuracy for Word Frequency: %0.2f (+/- %0.2f)\" % (scores.mean(), scores.std() * 2))"
      ],
      "execution_count": 50,
      "outputs": [
        {
          "output_type": "stream",
          "text": [
            "5-fold Cross-Validation Accuracy for Word Frequency: 0.99 (+/- 0.00)\n"
          ],
          "name": "stdout"
        }
      ]
    },
    {
      "cell_type": "markdown",
      "metadata": {
        "id": "K_VKUMPlrCuJ"
      },
      "source": [
        "**Logistic regression with TFIDF data**"
      ]
    },
    {
      "cell_type": "code",
      "metadata": {
        "id": "4wJjcMkgQGB3",
        "colab": {
          "base_uri": "https://localhost:8080/"
        },
        "outputId": "14434ce4-e794-4d39-a108-7c589ecb5bf2"
      },
      "source": [
        "clf_tfidf =  LogisticRegression(random_state=0, max_iter=1000).fit(X_train_tfidf , y_train)\n",
        "scores_tfidf = cross_val_score(clf_tfidf, X_train_tfidf , y_train, cv=5)\n",
        "# YOUR CODE SHOULD BE ABOVE THIS LINE\n",
        "print(\"5-fold Cross-Validation Accuracy for TFIDF: %0.2f (+/- %0.2f)\" % (scores_tfidf.mean(), scores_tfidf.std() * 2))"
      ],
      "execution_count": 51,
      "outputs": [
        {
          "output_type": "stream",
          "text": [
            "5-fold Cross-Validation Accuracy for TFIDF: 0.99 (+/- 0.00)\n"
          ],
          "name": "stdout"
        }
      ]
    },
    {
      "cell_type": "markdown",
      "metadata": {
        "id": "LA8_2ETzrIAR"
      },
      "source": [
        "**Using F1 Score Instead.**"
      ]
    },
    {
      "cell_type": "code",
      "metadata": {
        "id": "ANayflnXrKLw",
        "colab": {
          "base_uri": "https://localhost:8080/"
        },
        "outputId": "4a19aacd-6901-4217-9dad-da9b0532fe63"
      },
      "source": [
        "clf_f1 =  LogisticRegression(random_state=0, max_iter=1000).fit(X_train, y_train)\n",
        "scores_f1 = cross_val_score(clf_f1, X_train , y_train, scoring=\"f1_micro\" )\n",
        "\n",
        "\n",
        "clf_tfidf_f1 =  LogisticRegression(random_state=0, max_iter=1000).fit(X_train_tfidf , y_train)\n",
        "scores_tfidf_f1= cross_val_score(clf_tfidf_f1, X_train_tfidf , y_train, scoring=\"f1_micro\")\n",
        "# YOUR CODE SHOULD BE ABOVE THIS LINE\n",
        "print(\"5-fold Cross-Validation F1 score for Word Frequency: %0.2f (+/- %0.2f)\" % (scores_f1.mean(), scores_f1.std() * 2))\n",
        "print(\"5-fold Cross-Validation F1 score for TFIDF: %0.2f (+/- %0.2f)\" % (scores_tfidf_f1.mean(), scores_tfidf_f1.std() * 2))"
      ],
      "execution_count": 52,
      "outputs": [
        {
          "output_type": "stream",
          "text": [
            "5-fold Cross-Validation F1 score for Word Frequency: 0.99 (+/- 0.00)\n",
            "5-fold Cross-Validation F1 score for TFIDF: 0.99 (+/- 0.00)\n"
          ],
          "name": "stdout"
        }
      ]
    },
    {
      "cell_type": "markdown",
      "metadata": {
        "id": "MSjajN3WyPr5"
      },
      "source": [
        "**Testing the Losgistic regresssion model**"
      ]
    },
    {
      "cell_type": "code",
      "metadata": {
        "id": "aZEbH5-IrKgn",
        "colab": {
          "base_uri": "https://localhost:8080/"
        },
        "outputId": "b17bd9f9-087e-4d84-a126-67ecaef4d60b"
      },
      "source": [
        "clf = LogisticRegression(max_iter=1000)\n",
        "clf.fit(X_train,y_train)"
      ],
      "execution_count": 53,
      "outputs": [
        {
          "output_type": "execute_result",
          "data": {
            "text/plain": [
              "LogisticRegression(C=1.0, class_weight=None, dual=False, fit_intercept=True,\n",
              "                   intercept_scaling=1, l1_ratio=None, max_iter=1000,\n",
              "                   multi_class='auto', n_jobs=None, penalty='l2',\n",
              "                   random_state=None, solver='lbfgs', tol=0.0001, verbose=0,\n",
              "                   warm_start=False)"
            ]
          },
          "metadata": {
            "tags": []
          },
          "execution_count": 53
        }
      ]
    },
    {
      "cell_type": "code",
      "metadata": {
        "id": "JbDw7pGdrKaI",
        "colab": {
          "base_uri": "https://localhost:8080/"
        },
        "outputId": "12eaa094-a1a1-4a0e-9d5c-af95e8323e3b"
      },
      "source": [
        "test_sample = text_test.iloc[2:3]\n",
        "X_sample = vectorizer_tfidf.transform(test_sample)\n",
        "test_sample # This should all be classified as Local data [1]"
      ],
      "execution_count": 54,
      "outputs": [
        {
          "output_type": "execute_result",
          "data": {
            "text/plain": [
              "76769    rt cnn south africa is pausing some vaccine pl...\n",
              "Name: statuses_text, dtype: object"
            ]
          },
          "metadata": {
            "tags": []
          },
          "execution_count": 54
        }
      ]
    },
    {
      "cell_type": "code",
      "metadata": {
        "id": "h9mp6uwvybA4",
        "colab": {
          "base_uri": "https://localhost:8080/"
        },
        "outputId": "1a34264f-8061-4af7-8cb6-f5c178934ca0"
      },
      "source": [
        "clf.predict(X_sample)"
      ],
      "execution_count": 55,
      "outputs": [
        {
          "output_type": "execute_result",
          "data": {
            "text/plain": [
              "array([1])"
            ]
          },
          "metadata": {
            "tags": []
          },
          "execution_count": 55
        }
      ]
    },
    {
      "cell_type": "code",
      "metadata": {
        "id": "MoKVyfYOrKpW"
      },
      "source": [
        ""
      ],
      "execution_count": null,
      "outputs": []
    }
  ]
}
