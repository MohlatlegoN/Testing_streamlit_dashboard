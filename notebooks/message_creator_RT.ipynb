{
  "nbformat": 4,
  "nbformat_minor": 5,
  "metadata": {
    "colab": {
      "name": "message_creator_RT.ipynb",
      "provenance": [],
      "collapsed_sections": []
    },
    "kernelspec": {
      "display_name": "Python 3",
      "language": "python",
      "name": "python3"
    },
    "language_info": {
      "codemirror_mode": {
        "name": "ipython",
        "version": 3
      },
      "file_extension": ".py",
      "mimetype": "text/x-python",
      "name": "python",
      "nbconvert_exporter": "python",
      "pygments_lexer": "ipython3",
      "version": "3.7.10"
    }
  },
  "cells": [
    {
      "cell_type": "markdown",
      "metadata": {
        "id": "XlO8M1J8NGOB"
      },
      "source": [
        "1.   Mohlatlego Nakeng\n",
        "2.   Raymond Chiruka\n"
      ],
      "id": "XlO8M1J8NGOB"
    },
    {
      "cell_type": "markdown",
      "metadata": {
        "id": "4MS0JB8pNOxw"
      },
      "source": [
        "# **Task**\n",
        "\n",
        ">> In this notebook we validate microblogs users to detect bots in order to monitonir nonsensical activities."
      ],
      "id": "4MS0JB8pNOxw"
    },
    {
      "cell_type": "code",
      "metadata": {
        "id": "cordless-contemporary",
        "colab": {
          "base_uri": "https://localhost:8080/"
        },
        "outputId": "27420c66-0f4c-491c-db00-2c5ebd6259fb"
      },
      "source": [
        "import numpy as np \n",
        "import pandas as pd\n",
        "pd.set_option('display.max_columns', None)\n",
        "# for visualisations \n",
        "import matplotlib.pyplot as plt\n",
        "# for regular expressions\n",
        "import re\n",
        "# for handling strings \n",
        "import string\n",
        "# for maths operations\n",
        "import math\n",
        "import nltk\n",
        "from nltk.corpus import stopwords\n",
        "nltk.download('stopwords')\n",
        "from nltk.stem import PorterStemmer\n",
        "from nltk.tokenize import word_tokenize\n",
        "from nltk.stem import WordNetLemmatizer\n",
        "from sklearn.feature_extraction.text import TfidfVectorizer\n",
        "nltk.download('punkt')\n",
        "nltk.download('wordnet')\n",
        "stop_words=stopwords.words('english')\n",
        "stemmer=PorterStemmer()"
      ],
      "id": "cordless-contemporary",
      "execution_count": null,
      "outputs": [
        {
          "output_type": "stream",
          "text": [
            "[nltk_data] Downloading package stopwords to /root/nltk_data...\n",
            "[nltk_data]   Package stopwords is already up-to-date!\n",
            "[nltk_data] Downloading package punkt to /root/nltk_data...\n",
            "[nltk_data]   Package punkt is already up-to-date!\n",
            "[nltk_data] Downloading package wordnet to /root/nltk_data...\n",
            "[nltk_data]   Package wordnet is already up-to-date!\n"
          ],
          "name": "stdout"
        }
      ]
    },
    {
      "cell_type": "code",
      "metadata": {
        "id": "y4zQl_oFvzyg"
      },
      "source": [
        "from google.colab import drive"
      ],
      "id": "y4zQl_oFvzyg",
      "execution_count": null,
      "outputs": []
    },
    {
      "cell_type": "code",
      "metadata": {
        "id": "gBcPcHjGvqBy",
        "colab": {
          "base_uri": "https://localhost:8080/"
        },
        "outputId": "d397fa0a-1bae-4da3-8572-119dbd814503"
      },
      "source": [
        "drive.mount('/content/drive')"
      ],
      "id": "gBcPcHjGvqBy",
      "execution_count": null,
      "outputs": [
        {
          "output_type": "stream",
          "text": [
            "Drive already mounted at /content/drive; to attempt to forcibly remount, call drive.mount(\"/content/drive\", force_remount=True).\n"
          ],
          "name": "stdout"
        }
      ]
    },
    {
      "cell_type": "code",
      "metadata": {
        "id": "decimal-pursuit"
      },
      "source": [
        "df = pd.read_csv(\"/content/drive/Shareddrives/MIT808 - group 6/data/Categories.csv\") "
      ],
      "id": "decimal-pursuit",
      "execution_count": null,
      "outputs": []
    },
    {
      "cell_type": "code",
      "metadata": {
        "id": "legislative-mexican",
        "colab": {
          "base_uri": "https://localhost:8080/",
          "height": 206
        },
        "outputId": "16fd6582-b66b-4b2b-e440-dd8c49b6d249"
      },
      "source": [
        "df.head()"
      ],
      "id": "legislative-mexican",
      "execution_count": null,
      "outputs": [
        {
          "output_type": "execute_result",
          "data": {
            "text/html": [
              "<div>\n",
              "<style scoped>\n",
              "    .dataframe tbody tr th:only-of-type {\n",
              "        vertical-align: middle;\n",
              "    }\n",
              "\n",
              "    .dataframe tbody tr th {\n",
              "        vertical-align: top;\n",
              "    }\n",
              "\n",
              "    .dataframe thead th {\n",
              "        text-align: right;\n",
              "    }\n",
              "</style>\n",
              "<table border=\"1\" class=\"dataframe\">\n",
              "  <thead>\n",
              "    <tr style=\"text-align: right;\">\n",
              "      <th></th>\n",
              "      <th>statuses_text</th>\n",
              "      <th>statuses_retweeted</th>\n",
              "      <th>location_cat</th>\n",
              "      <th>tweets_location</th>\n",
              "      <th>message_creator</th>\n",
              "    </tr>\n",
              "  </thead>\n",
              "  <tbody>\n",
              "    <tr>\n",
              "      <th>0</th>\n",
              "      <td>rt drericding breakingâsingleshot johnson amp ...</td>\n",
              "      <td>False</td>\n",
              "      <td>True</td>\n",
              "      <td>local</td>\n",
              "      <td>Human</td>\n",
              "    </tr>\n",
              "    <tr>\n",
              "      <th>1</th>\n",
              "      <td>rt bbcmorelle very good news on novavax vaccin...</td>\n",
              "      <td>False</td>\n",
              "      <td>True</td>\n",
              "      <td>local</td>\n",
              "      <td>Human</td>\n",
              "    </tr>\n",
              "    <tr>\n",
              "      <th>2</th>\n",
              "      <td>rt voxdotcom what makes the johnson amp johnso...</td>\n",
              "      <td>False</td>\n",
              "      <td>False</td>\n",
              "      <td>global</td>\n",
              "      <td>Human</td>\n",
              "    </tr>\n",
              "    <tr>\n",
              "      <th>3</th>\n",
              "      <td>rt drericding breakingâsingleshot johnson amp ...</td>\n",
              "      <td>False</td>\n",
              "      <td>True</td>\n",
              "      <td>local</td>\n",
              "      <td>Human</td>\n",
              "    </tr>\n",
              "    <tr>\n",
              "      <th>4</th>\n",
              "      <td>rt jsavagetweets johnson amp johnson aka janss...</td>\n",
              "      <td>False</td>\n",
              "      <td>True</td>\n",
              "      <td>local</td>\n",
              "      <td>Human</td>\n",
              "    </tr>\n",
              "  </tbody>\n",
              "</table>\n",
              "</div>"
            ],
            "text/plain": [
              "                                       statuses_text  statuses_retweeted  \\\n",
              "0  rt drericding breakingâsingleshot johnson amp ...               False   \n",
              "1  rt bbcmorelle very good news on novavax vaccin...               False   \n",
              "2  rt voxdotcom what makes the johnson amp johnso...               False   \n",
              "3  rt drericding breakingâsingleshot johnson amp ...               False   \n",
              "4  rt jsavagetweets johnson amp johnson aka janss...               False   \n",
              "\n",
              "   location_cat tweets_location message_creator  \n",
              "0          True           local           Human  \n",
              "1          True           local           Human  \n",
              "2         False          global           Human  \n",
              "3          True           local           Human  \n",
              "4          True           local           Human  "
            ]
          },
          "metadata": {
            "tags": []
          },
          "execution_count": 5
        }
      ]
    },
    {
      "cell_type": "code",
      "metadata": {
        "id": "gorgeous-oxford",
        "colab": {
          "base_uri": "https://localhost:8080/"
        },
        "outputId": "f1ff2b85-276c-40d4-a1fa-ecfd0e3255ea"
      },
      "source": [
        "df.shape"
      ],
      "id": "gorgeous-oxford",
      "execution_count": null,
      "outputs": [
        {
          "output_type": "execute_result",
          "data": {
            "text/plain": [
              "(404768, 5)"
            ]
          },
          "metadata": {
            "tags": []
          },
          "execution_count": 6
        }
      ]
    },
    {
      "cell_type": "code",
      "metadata": {
        "id": "pressed-tobacco"
      },
      "source": [
        "df.drop(columns=['statuses_retweeted',\n",
        "                 'location_cat',\n",
        "                 'tweets_location'],inplace = True)\n"
      ],
      "id": "pressed-tobacco",
      "execution_count": null,
      "outputs": []
    },
    {
      "cell_type": "markdown",
      "metadata": {
        "id": "oLr3VhqyeZzh"
      },
      "source": [
        "input_query\n",
        "\n",
        "statuses_user_location\n",
        "statuses_user_followers_count\n",
        "statuses_user_friends_count\n",
        "statuses_user_listed_count\n",
        "statuses_user_favourites_count\n",
        "statuses_retweeted_status_text\n",
        "statuses_retweeted_status_user_followers_count\n",
        "statuses_retweeted_status_user_friends_count\n",
        "-\n",
        "statuses_retweeted_status_user_favourites_count\n",
        "statuses_retweeted_status_user_statuses_count\n",
        "statuses_retweeted_status_retweet_count\n",
        "statuses_retweeted_status_favorite_count\n",
        "statuses_retweet_count\n",
        "statuses_favorite_count\n",
        "tatuses_lang"
      ],
      "id": "oLr3VhqyeZzh"
    },
    {
      "cell_type": "markdown",
      "metadata": {
        "id": "lAKa4aEsNsn4"
      },
      "source": [
        "**Data extraction to indentify bots**"
      ],
      "id": "lAKa4aEsNsn4"
    },
    {
      "cell_type": "markdown",
      "metadata": {
        "id": "integral-cuisine"
      },
      "source": [
        "\n",
        "To create the binary variable of human or bot. I used the profile activity as proxy for classify bot or human. so I used 72 as a cutoff point where if average daily activity is more than 72 tweets then it is a susspected bot. \n",
        "(if you send 72 tweets in a 12 hour period thats about 6 tweets a  every hour) which is not normal human behaviour. using \"statuses_user_created_at\" which is the date the twitter account was created and \"statuses_created_at\" which is the date the enquiry was created. therefore \n",
        "'statuses_created_at' - 'statuses_user_created_at' = days_the_profile_in_use.\n",
        "'statuses_user_statuses_count' this count of tweets sent since the account has been in use.\n",
        "hence  'statuses_user_statuses_count'/'profile_in_use' gives you the activity per day.\n"
      ],
      "id": "integral-cuisine"
    },
    {
      "cell_type": "code",
      "metadata": {
        "id": "comparative-addition"
      },
      "source": [
        "#This has been commented out since the dataset being used here has the human/bot category \n",
        "#convert twitter dates to datetypes \n",
        "#df['statuses_user_created_at']=pd.to_datetime(df['statuses_user_created_at']).dt.date\n",
        "#df['statuses_created_at']=pd.to_datetime(df['statuses_created_at']).dt.date\n",
        "# calculate the number of days the profile has been in use\n",
        "#df['profile_in_use']=df['statuses_created_at']-df['statuses_user_created_at']\n",
        "#df['profile_in_use']=pd.to_numeric(df['profile_in_use'].dt.days,downcast='integer')\n",
        "#df['messages_per_day']=df['statuses_user_statuses_count']/df['profile_in_use']\n",
        "#create variable in human or bot\n",
        "#df['message_creator']=df['messages_per_day'].apply(lambda x: 'Bot' if x > 72 else 'Human' )"
      ],
      "id": "comparative-addition",
      "execution_count": null,
      "outputs": []
    },
    {
      "cell_type": "code",
      "metadata": {
        "id": "fewer-aircraft",
        "colab": {
          "base_uri": "https://localhost:8080/",
          "height": 206
        },
        "outputId": "73682933-5f18-40b3-8884-561edf8db73a"
      },
      "source": [
        "df.head()"
      ],
      "id": "fewer-aircraft",
      "execution_count": null,
      "outputs": [
        {
          "output_type": "execute_result",
          "data": {
            "text/html": [
              "<div>\n",
              "<style scoped>\n",
              "    .dataframe tbody tr th:only-of-type {\n",
              "        vertical-align: middle;\n",
              "    }\n",
              "\n",
              "    .dataframe tbody tr th {\n",
              "        vertical-align: top;\n",
              "    }\n",
              "\n",
              "    .dataframe thead th {\n",
              "        text-align: right;\n",
              "    }\n",
              "</style>\n",
              "<table border=\"1\" class=\"dataframe\">\n",
              "  <thead>\n",
              "    <tr style=\"text-align: right;\">\n",
              "      <th></th>\n",
              "      <th>statuses_text</th>\n",
              "      <th>message_creator</th>\n",
              "    </tr>\n",
              "  </thead>\n",
              "  <tbody>\n",
              "    <tr>\n",
              "      <th>0</th>\n",
              "      <td>rt drericding breakingâsingleshot johnson amp ...</td>\n",
              "      <td>Human</td>\n",
              "    </tr>\n",
              "    <tr>\n",
              "      <th>1</th>\n",
              "      <td>rt bbcmorelle very good news on novavax vaccin...</td>\n",
              "      <td>Human</td>\n",
              "    </tr>\n",
              "    <tr>\n",
              "      <th>2</th>\n",
              "      <td>rt voxdotcom what makes the johnson amp johnso...</td>\n",
              "      <td>Human</td>\n",
              "    </tr>\n",
              "    <tr>\n",
              "      <th>3</th>\n",
              "      <td>rt drericding breakingâsingleshot johnson amp ...</td>\n",
              "      <td>Human</td>\n",
              "    </tr>\n",
              "    <tr>\n",
              "      <th>4</th>\n",
              "      <td>rt jsavagetweets johnson amp johnson aka janss...</td>\n",
              "      <td>Human</td>\n",
              "    </tr>\n",
              "  </tbody>\n",
              "</table>\n",
              "</div>"
            ],
            "text/plain": [
              "                                       statuses_text message_creator\n",
              "0  rt drericding breakingâsingleshot johnson amp ...           Human\n",
              "1  rt bbcmorelle very good news on novavax vaccin...           Human\n",
              "2  rt voxdotcom what makes the johnson amp johnso...           Human\n",
              "3  rt drericding breakingâsingleshot johnson amp ...           Human\n",
              "4  rt jsavagetweets johnson amp johnson aka janss...           Human"
            ]
          },
          "metadata": {
            "tags": []
          },
          "execution_count": 9
        }
      ]
    },
    {
      "cell_type": "code",
      "metadata": {
        "id": "juvenile-romania"
      },
      "source": [
        "def remove_pattern(input_txt, pattern):\n",
        "    r = re.findall(pattern, input_txt)\n",
        "    for i in r:\n",
        "        input_txt = re.sub(i, '', input_txt)\n",
        "        \n",
        "    return input_txt  "
      ],
      "id": "juvenile-romania",
      "execution_count": null,
      "outputs": []
    },
    {
      "cell_type": "code",
      "metadata": {
        "id": "reasonable-kingdom"
      },
      "source": [
        "# remove twitter handles (@user)\n",
        "df['statuses_text'] = np.vectorize(remove_pattern)(df['statuses_text'], \"@[\\w]*\")\n",
        "df['statuses_text'] = df['statuses_text'].str.replace(\"[^a-zA-Z]\", \" \")"
      ],
      "id": "reasonable-kingdom",
      "execution_count": null,
      "outputs": []
    },
    {
      "cell_type": "code",
      "metadata": {
        "id": "invalid-collect"
      },
      "source": [
        "#make dataframe lowercase\n",
        "df = df.applymap(lambda s:s.lower() if type(s) == str else s)"
      ],
      "id": "invalid-collect",
      "execution_count": null,
      "outputs": []
    },
    {
      "cell_type": "code",
      "metadata": {
        "id": "gorgeous-botswana",
        "colab": {
          "base_uri": "https://localhost:8080/",
          "height": 206
        },
        "outputId": "8c2f917f-f758-427a-8f2b-6783a03a5a6a"
      },
      "source": [
        "df.head()"
      ],
      "id": "gorgeous-botswana",
      "execution_count": null,
      "outputs": [
        {
          "output_type": "execute_result",
          "data": {
            "text/html": [
              "<div>\n",
              "<style scoped>\n",
              "    .dataframe tbody tr th:only-of-type {\n",
              "        vertical-align: middle;\n",
              "    }\n",
              "\n",
              "    .dataframe tbody tr th {\n",
              "        vertical-align: top;\n",
              "    }\n",
              "\n",
              "    .dataframe thead th {\n",
              "        text-align: right;\n",
              "    }\n",
              "</style>\n",
              "<table border=\"1\" class=\"dataframe\">\n",
              "  <thead>\n",
              "    <tr style=\"text-align: right;\">\n",
              "      <th></th>\n",
              "      <th>statuses_text</th>\n",
              "      <th>message_creator</th>\n",
              "    </tr>\n",
              "  </thead>\n",
              "  <tbody>\n",
              "    <tr>\n",
              "      <th>0</th>\n",
              "      <td>rt drericding breaking singleshot johnson amp ...</td>\n",
              "      <td>human</td>\n",
              "    </tr>\n",
              "    <tr>\n",
              "      <th>1</th>\n",
              "      <td>rt bbcmorelle very good news on novavax vaccin...</td>\n",
              "      <td>human</td>\n",
              "    </tr>\n",
              "    <tr>\n",
              "      <th>2</th>\n",
              "      <td>rt voxdotcom what makes the johnson amp johnso...</td>\n",
              "      <td>human</td>\n",
              "    </tr>\n",
              "    <tr>\n",
              "      <th>3</th>\n",
              "      <td>rt drericding breaking singleshot johnson amp ...</td>\n",
              "      <td>human</td>\n",
              "    </tr>\n",
              "    <tr>\n",
              "      <th>4</th>\n",
              "      <td>rt jsavagetweets johnson amp johnson aka janss...</td>\n",
              "      <td>human</td>\n",
              "    </tr>\n",
              "  </tbody>\n",
              "</table>\n",
              "</div>"
            ],
            "text/plain": [
              "                                       statuses_text message_creator\n",
              "0  rt drericding breaking singleshot johnson amp ...           human\n",
              "1  rt bbcmorelle very good news on novavax vaccin...           human\n",
              "2  rt voxdotcom what makes the johnson amp johnso...           human\n",
              "3  rt drericding breaking singleshot johnson amp ...           human\n",
              "4  rt jsavagetweets johnson amp johnson aka janss...           human"
            ]
          },
          "metadata": {
            "tags": []
          },
          "execution_count": 13
        }
      ]
    },
    {
      "cell_type": "code",
      "metadata": {
        "id": "cultural-revision"
      },
      "source": [
        "#df.drop(columns=['statuses_created_at',\n",
        "#               'statuses_user_created_at',\n",
        "#                'statuses_user_statuses_count',\n",
        "#                'profile_in_use',\n",
        "#                'messages_per_day'],inplace=True)"
      ],
      "id": "cultural-revision",
      "execution_count": null,
      "outputs": []
    },
    {
      "cell_type": "code",
      "metadata": {
        "id": "embedded-stanford",
        "colab": {
          "base_uri": "https://localhost:8080/",
          "height": 206
        },
        "outputId": "f5095e3c-bfc9-449a-c931-836699eb66ac"
      },
      "source": [
        "df.head()"
      ],
      "id": "embedded-stanford",
      "execution_count": null,
      "outputs": [
        {
          "output_type": "execute_result",
          "data": {
            "text/html": [
              "<div>\n",
              "<style scoped>\n",
              "    .dataframe tbody tr th:only-of-type {\n",
              "        vertical-align: middle;\n",
              "    }\n",
              "\n",
              "    .dataframe tbody tr th {\n",
              "        vertical-align: top;\n",
              "    }\n",
              "\n",
              "    .dataframe thead th {\n",
              "        text-align: right;\n",
              "    }\n",
              "</style>\n",
              "<table border=\"1\" class=\"dataframe\">\n",
              "  <thead>\n",
              "    <tr style=\"text-align: right;\">\n",
              "      <th></th>\n",
              "      <th>statuses_text</th>\n",
              "      <th>message_creator</th>\n",
              "    </tr>\n",
              "  </thead>\n",
              "  <tbody>\n",
              "    <tr>\n",
              "      <th>0</th>\n",
              "      <td>rt drericding breaking singleshot johnson amp ...</td>\n",
              "      <td>human</td>\n",
              "    </tr>\n",
              "    <tr>\n",
              "      <th>1</th>\n",
              "      <td>rt bbcmorelle very good news on novavax vaccin...</td>\n",
              "      <td>human</td>\n",
              "    </tr>\n",
              "    <tr>\n",
              "      <th>2</th>\n",
              "      <td>rt voxdotcom what makes the johnson amp johnso...</td>\n",
              "      <td>human</td>\n",
              "    </tr>\n",
              "    <tr>\n",
              "      <th>3</th>\n",
              "      <td>rt drericding breaking singleshot johnson amp ...</td>\n",
              "      <td>human</td>\n",
              "    </tr>\n",
              "    <tr>\n",
              "      <th>4</th>\n",
              "      <td>rt jsavagetweets johnson amp johnson aka janss...</td>\n",
              "      <td>human</td>\n",
              "    </tr>\n",
              "  </tbody>\n",
              "</table>\n",
              "</div>"
            ],
            "text/plain": [
              "                                       statuses_text message_creator\n",
              "0  rt drericding breaking singleshot johnson amp ...           human\n",
              "1  rt bbcmorelle very good news on novavax vaccin...           human\n",
              "2  rt voxdotcom what makes the johnson amp johnso...           human\n",
              "3  rt drericding breaking singleshot johnson amp ...           human\n",
              "4  rt jsavagetweets johnson amp johnson aka janss...           human"
            ]
          },
          "metadata": {
            "tags": []
          },
          "execution_count": 15
        }
      ]
    },
    {
      "cell_type": "code",
      "metadata": {
        "id": "atomic-easter",
        "colab": {
          "base_uri": "https://localhost:8080/"
        },
        "outputId": "c3e2b4ac-21a3-4c1b-bf06-5a0b2b078007"
      },
      "source": [
        "df.shape"
      ],
      "id": "atomic-easter",
      "execution_count": null,
      "outputs": [
        {
          "output_type": "execute_result",
          "data": {
            "text/plain": [
              "(404768, 2)"
            ]
          },
          "metadata": {
            "tags": []
          },
          "execution_count": 16
        }
      ]
    },
    {
      "cell_type": "code",
      "metadata": {
        "id": "concrete-philosophy",
        "colab": {
          "base_uri": "https://localhost:8080/"
        },
        "outputId": "31cd34ec-a922-4e83-ee41-748c29f258f7"
      },
      "source": [
        "df.isnull().sum()"
      ],
      "id": "concrete-philosophy",
      "execution_count": null,
      "outputs": [
        {
          "output_type": "execute_result",
          "data": {
            "text/plain": [
              "statuses_text      0\n",
              "message_creator    0\n",
              "dtype: int64"
            ]
          },
          "metadata": {
            "tags": []
          },
          "execution_count": 17
        }
      ]
    },
    {
      "cell_type": "code",
      "metadata": {
        "id": "treated-substitute",
        "colab": {
          "base_uri": "https://localhost:8080/",
          "height": 206
        },
        "outputId": "4278663b-cba8-4450-9216-f25d2c1f0548"
      },
      "source": [
        "length = []\n",
        "[length.append(len(str(text))) for text in df['statuses_text']]\n",
        "df['length'] = length\n",
        "df.head()"
      ],
      "id": "treated-substitute",
      "execution_count": null,
      "outputs": [
        {
          "output_type": "execute_result",
          "data": {
            "text/html": [
              "<div>\n",
              "<style scoped>\n",
              "    .dataframe tbody tr th:only-of-type {\n",
              "        vertical-align: middle;\n",
              "    }\n",
              "\n",
              "    .dataframe tbody tr th {\n",
              "        vertical-align: top;\n",
              "    }\n",
              "\n",
              "    .dataframe thead th {\n",
              "        text-align: right;\n",
              "    }\n",
              "</style>\n",
              "<table border=\"1\" class=\"dataframe\">\n",
              "  <thead>\n",
              "    <tr style=\"text-align: right;\">\n",
              "      <th></th>\n",
              "      <th>statuses_text</th>\n",
              "      <th>message_creator</th>\n",
              "      <th>length</th>\n",
              "    </tr>\n",
              "  </thead>\n",
              "  <tbody>\n",
              "    <tr>\n",
              "      <th>0</th>\n",
              "      <td>rt drericding breaking singleshot johnson amp ...</td>\n",
              "      <td>human</td>\n",
              "      <td>137</td>\n",
              "    </tr>\n",
              "    <tr>\n",
              "      <th>1</th>\n",
              "      <td>rt bbcmorelle very good news on novavax vaccin...</td>\n",
              "      <td>human</td>\n",
              "      <td>126</td>\n",
              "    </tr>\n",
              "    <tr>\n",
              "      <th>2</th>\n",
              "      <td>rt voxdotcom what makes the johnson amp johnso...</td>\n",
              "      <td>human</td>\n",
              "      <td>135</td>\n",
              "    </tr>\n",
              "    <tr>\n",
              "      <th>3</th>\n",
              "      <td>rt drericding breaking singleshot johnson amp ...</td>\n",
              "      <td>human</td>\n",
              "      <td>137</td>\n",
              "    </tr>\n",
              "    <tr>\n",
              "      <th>4</th>\n",
              "      <td>rt jsavagetweets johnson amp johnson aka janss...</td>\n",
              "      <td>human</td>\n",
              "      <td>134</td>\n",
              "    </tr>\n",
              "  </tbody>\n",
              "</table>\n",
              "</div>"
            ],
            "text/plain": [
              "                                       statuses_text message_creator  length\n",
              "0  rt drericding breaking singleshot johnson amp ...           human     137\n",
              "1  rt bbcmorelle very good news on novavax vaccin...           human     126\n",
              "2  rt voxdotcom what makes the johnson amp johnso...           human     135\n",
              "3  rt drericding breaking singleshot johnson amp ...           human     137\n",
              "4  rt jsavagetweets johnson amp johnson aka janss...           human     134"
            ]
          },
          "metadata": {
            "tags": []
          },
          "execution_count": 18
        }
      ]
    },
    {
      "cell_type": "markdown",
      "metadata": {
        "id": "z38IUFUWN1QW"
      },
      "source": [
        "The histogram below visualize the human vs bots usage. Statistical our is imbalanced ,we might experience overfitting."
      ],
      "id": "z38IUFUWN1QW"
    },
    {
      "cell_type": "code",
      "metadata": {
        "id": "khNsIR5qR8yx",
        "colab": {
          "base_uri": "https://localhost:8080/",
          "height": 283
        },
        "outputId": "f1f92b29-3ebd-4edc-f9e9-0db335329421"
      },
      "source": [
        "df.message_creator.hist()"
      ],
      "id": "khNsIR5qR8yx",
      "execution_count": null,
      "outputs": [
        {
          "output_type": "execute_result",
          "data": {
            "text/plain": [
              "<matplotlib.axes._subplots.AxesSubplot at 0x7ff44765dfd0>"
            ]
          },
          "metadata": {
            "tags": []
          },
          "execution_count": 19
        },
        {
          "output_type": "display_data",
          "data": {
            "image/png": "[encoded data removed]",
            "text/plain": [
              "<Figure size 432x288 with 1 Axes>"
            ]
          },
          "metadata": {
            "tags": [],
            "needs_background": "light"
          }
        }
      ]
    },
    {
      "cell_type": "code",
      "metadata": {
        "id": "gWxApNNSSAxP"
      },
      "source": [
        "df['Label'] = df['message_creator'].apply(lambda x: 1 if x=='human' else 0)"
      ],
      "id": "gWxApNNSSAxP",
      "execution_count": null,
      "outputs": []
    },
    {
      "cell_type": "code",
      "metadata": {
        "id": "DTKFevYcSFuo",
        "colab": {
          "base_uri": "https://localhost:8080/",
          "height": 206
        },
        "outputId": "6400ad46-cf5b-48ed-c1cc-36e22263dbd0"
      },
      "source": [
        "df.head()"
      ],
      "id": "DTKFevYcSFuo",
      "execution_count": null,
      "outputs": [
        {
          "output_type": "execute_result",
          "data": {
            "text/html": [
              "<div>\n",
              "<style scoped>\n",
              "    .dataframe tbody tr th:only-of-type {\n",
              "        vertical-align: middle;\n",
              "    }\n",
              "\n",
              "    .dataframe tbody tr th {\n",
              "        vertical-align: top;\n",
              "    }\n",
              "\n",
              "    .dataframe thead th {\n",
              "        text-align: right;\n",
              "    }\n",
              "</style>\n",
              "<table border=\"1\" class=\"dataframe\">\n",
              "  <thead>\n",
              "    <tr style=\"text-align: right;\">\n",
              "      <th></th>\n",
              "      <th>statuses_text</th>\n",
              "      <th>message_creator</th>\n",
              "      <th>length</th>\n",
              "      <th>Label</th>\n",
              "    </tr>\n",
              "  </thead>\n",
              "  <tbody>\n",
              "    <tr>\n",
              "      <th>0</th>\n",
              "      <td>rt drericding breaking singleshot johnson amp ...</td>\n",
              "      <td>human</td>\n",
              "      <td>137</td>\n",
              "      <td>1</td>\n",
              "    </tr>\n",
              "    <tr>\n",
              "      <th>1</th>\n",
              "      <td>rt bbcmorelle very good news on novavax vaccin...</td>\n",
              "      <td>human</td>\n",
              "      <td>126</td>\n",
              "      <td>1</td>\n",
              "    </tr>\n",
              "    <tr>\n",
              "      <th>2</th>\n",
              "      <td>rt voxdotcom what makes the johnson amp johnso...</td>\n",
              "      <td>human</td>\n",
              "      <td>135</td>\n",
              "      <td>1</td>\n",
              "    </tr>\n",
              "    <tr>\n",
              "      <th>3</th>\n",
              "      <td>rt drericding breaking singleshot johnson amp ...</td>\n",
              "      <td>human</td>\n",
              "      <td>137</td>\n",
              "      <td>1</td>\n",
              "    </tr>\n",
              "    <tr>\n",
              "      <th>4</th>\n",
              "      <td>rt jsavagetweets johnson amp johnson aka janss...</td>\n",
              "      <td>human</td>\n",
              "      <td>134</td>\n",
              "      <td>1</td>\n",
              "    </tr>\n",
              "  </tbody>\n",
              "</table>\n",
              "</div>"
            ],
            "text/plain": [
              "                                       statuses_text message_creator  length  \\\n",
              "0  rt drericding breaking singleshot johnson amp ...           human     137   \n",
              "1  rt bbcmorelle very good news on novavax vaccin...           human     126   \n",
              "2  rt voxdotcom what makes the johnson amp johnso...           human     135   \n",
              "3  rt drericding breaking singleshot johnson amp ...           human     137   \n",
              "4  rt jsavagetweets johnson amp johnson aka janss...           human     134   \n",
              "\n",
              "   Label  \n",
              "0      1  \n",
              "1      1  \n",
              "2      1  \n",
              "3      1  \n",
              "4      1  "
            ]
          },
          "metadata": {
            "tags": []
          },
          "execution_count": 21
        }
      ]
    },
    {
      "cell_type": "code",
      "metadata": {
        "id": "nPjwh8dFSNvo",
        "colab": {
          "base_uri": "https://localhost:8080/",
          "height": 424
        },
        "outputId": "95e7178b-af42-4152-e367-d0a581e68f9f"
      },
      "source": [
        "from sklearn.model_selection import train_test_split # we sample our data by using data split\n",
        "df_train = df.sample(frac=0.8, random_state=200)\n",
        "df_train, df_test = train_test_split(df, test_size=0.2)\n",
        "df_train"
      ],
      "id": "nPjwh8dFSNvo",
      "execution_count": null,
      "outputs": [
        {
          "output_type": "execute_result",
          "data": {
            "text/html": [
              "<div>\n",
              "<style scoped>\n",
              "    .dataframe tbody tr th:only-of-type {\n",
              "        vertical-align: middle;\n",
              "    }\n",
              "\n",
              "    .dataframe tbody tr th {\n",
              "        vertical-align: top;\n",
              "    }\n",
              "\n",
              "    .dataframe thead th {\n",
              "        text-align: right;\n",
              "    }\n",
              "</style>\n",
              "<table border=\"1\" class=\"dataframe\">\n",
              "  <thead>\n",
              "    <tr style=\"text-align: right;\">\n",
              "      <th></th>\n",
              "      <th>statuses_text</th>\n",
              "      <th>message_creator</th>\n",
              "      <th>length</th>\n",
              "      <th>Label</th>\n",
              "    </tr>\n",
              "  </thead>\n",
              "  <tbody>\n",
              "    <tr>\n",
              "      <th>126376</th>\n",
              "      <td>rt business pfizer and biontechs vaccine stimu...</td>\n",
              "      <td>human</td>\n",
              "      <td>136</td>\n",
              "      <td>1</td>\n",
              "    </tr>\n",
              "    <tr>\n",
              "      <th>274025</th>\n",
              "      <td>alabama official on vaccine rollout how can th...</td>\n",
              "      <td>human</td>\n",
              "      <td>125</td>\n",
              "      <td>1</td>\n",
              "    </tr>\n",
              "    <tr>\n",
              "      <th>159224</th>\n",
              "      <td>rt chomilomd today s mn covidvaccine announcem...</td>\n",
              "      <td>human</td>\n",
              "      <td>138</td>\n",
              "      <td>1</td>\n",
              "    </tr>\n",
              "    <tr>\n",
              "      <th>167792</th>\n",
              "      <td>the us fda says the johnson amp johnson covidv...</td>\n",
              "      <td>human</td>\n",
              "      <td>127</td>\n",
              "      <td>1</td>\n",
              "    </tr>\n",
              "    <tr>\n",
              "      <th>399914</th>\n",
              "      <td>rt firstgentleman i am very happy that i have ...</td>\n",
              "      <td>human</td>\n",
              "      <td>138</td>\n",
              "      <td>1</td>\n",
              "    </tr>\n",
              "    <tr>\n",
              "      <th>...</th>\n",
              "      <td>...</td>\n",
              "      <td>...</td>\n",
              "      <td>...</td>\n",
              "      <td>...</td>\n",
              "    </tr>\n",
              "    <tr>\n",
              "      <th>54944</th>\n",
              "      <td>rt piyushgoyaloffc along with south africa we ...</td>\n",
              "      <td>human</td>\n",
              "      <td>136</td>\n",
              "      <td>1</td>\n",
              "    </tr>\n",
              "    <tr>\n",
              "      <th>124996</th>\n",
              "      <td>rt nymag eradicating the novel coronavirus may...</td>\n",
              "      <td>human</td>\n",
              "      <td>136</td>\n",
              "      <td>1</td>\n",
              "    </tr>\n",
              "    <tr>\n",
              "      <th>336840</th>\n",
              "      <td>feeling pretty ill after my vaccine but i am h...</td>\n",
              "      <td>human</td>\n",
              "      <td>65</td>\n",
              "      <td>1</td>\n",
              "    </tr>\n",
              "    <tr>\n",
              "      <th>336463</th>\n",
              "      <td>rt honestyandhumor covid vaccine deaths of aus...</td>\n",
              "      <td>human</td>\n",
              "      <td>115</td>\n",
              "      <td>1</td>\n",
              "    </tr>\n",
              "    <tr>\n",
              "      <th>353315</th>\n",
              "      <td>rt lperrins coercing people to take a vaccine ...</td>\n",
              "      <td>human</td>\n",
              "      <td>135</td>\n",
              "      <td>1</td>\n",
              "    </tr>\n",
              "  </tbody>\n",
              "</table>\n",
              "<p>323814 rows × 4 columns</p>\n",
              "</div>"
            ],
            "text/plain": [
              "                                            statuses_text message_creator  \\\n",
              "126376  rt business pfizer and biontechs vaccine stimu...           human   \n",
              "274025  alabama official on vaccine rollout how can th...           human   \n",
              "159224  rt chomilomd today s mn covidvaccine announcem...           human   \n",
              "167792  the us fda says the johnson amp johnson covidv...           human   \n",
              "399914  rt firstgentleman i am very happy that i have ...           human   \n",
              "...                                                   ...             ...   \n",
              "54944   rt piyushgoyaloffc along with south africa we ...           human   \n",
              "124996  rt nymag eradicating the novel coronavirus may...           human   \n",
              "336840  feeling pretty ill after my vaccine but i am h...           human   \n",
              "336463  rt honestyandhumor covid vaccine deaths of aus...           human   \n",
              "353315  rt lperrins coercing people to take a vaccine ...           human   \n",
              "\n",
              "        length  Label  \n",
              "126376     136      1  \n",
              "274025     125      1  \n",
              "159224     138      1  \n",
              "167792     127      1  \n",
              "399914     138      1  \n",
              "...        ...    ...  \n",
              "54944      136      1  \n",
              "124996     136      1  \n",
              "336840      65      1  \n",
              "336463     115      1  \n",
              "353315     135      1  \n",
              "\n",
              "[323814 rows x 4 columns]"
            ]
          },
          "metadata": {
            "tags": []
          },
          "execution_count": 22
        }
      ]
    },
    {
      "cell_type": "code",
      "metadata": {
        "id": "M8eXI3aZSa4t"
      },
      "source": [
        "# here we are importing nltk,stopwords and porterstemmer we are using stemming on the text \n",
        "# we have and stopwords will help in removing the stopwords in the text\n",
        "\n",
        "#re is regular expressions used for identifying only words in the text and ignoring anything else\n",
        "import nltk\n",
        "import re\n",
        "from nltk.corpus import stopwords\n",
        "from nltk.stem.porter import PorterStemmer\n",
        "# importing neural network libraries\n",
        "from tensorflow.keras import Sequential\n",
        "from tensorflow.keras.layers import Flatten,Dense,Embedding,LSTM,Dropout\n",
        "from tensorflow.keras.preprocessing.text import one_hot\n",
        "from tensorflow.keras.preprocessing.sequence import pad_sequences\n",
        "from sklearn.linear_model import LogisticRegression"
      ],
      "id": "M8eXI3aZSa4t",
      "execution_count": null,
      "outputs": []
    },
    {
      "cell_type": "code",
      "metadata": {
        "id": "Q602zTTuShyR"
      },
      "source": [
        "# here we are setting vocabulary size\n",
        "voc_size=5000"
      ],
      "id": "Q602zTTuShyR",
      "execution_count": null,
      "outputs": []
    },
    {
      "cell_type": "code",
      "metadata": {
        "id": "lXArDFHVSnVZ"
      },
      "source": [
        "x = df_train.drop('Label',axis = 1)\n",
        "y = df_train['Label']"
      ],
      "id": "lXArDFHVSnVZ",
      "execution_count": null,
      "outputs": []
    },
    {
      "cell_type": "code",
      "metadata": {
        "id": "g73ndX3kSsIr"
      },
      "source": [
        "messages = x.copy()\n",
        "##Since we drop Null values from our Dataset ,so we need to Reset Index of our Dataset\n",
        "messages.reset_index(inplace=True)"
      ],
      "id": "g73ndX3kSsIr",
      "execution_count": null,
      "outputs": []
    },
    {
      "cell_type": "code",
      "metadata": {
        "id": "A_zyRPqxSxCp",
        "colab": {
          "base_uri": "https://localhost:8080/"
        },
        "outputId": "0f95ff48-79e9-4c70-d63e-9e5b1e1d7e80"
      },
      "source": [
        "nltk.download(\"stopwords\")"
      ],
      "id": "A_zyRPqxSxCp",
      "execution_count": null,
      "outputs": [
        {
          "output_type": "stream",
          "text": [
            "[nltk_data] Downloading package stopwords to /root/nltk_data...\n",
            "[nltk_data]   Package stopwords is already up-to-date!\n"
          ],
          "name": "stdout"
        },
        {
          "output_type": "execute_result",
          "data": {
            "text/plain": [
              "True"
            ]
          },
          "metadata": {
            "tags": []
          },
          "execution_count": 27
        }
      ]
    },
    {
      "cell_type": "code",
      "metadata": {
        "id": "vmV2ic3zSzJq",
        "colab": {
          "base_uri": "https://localhost:8080/"
        },
        "outputId": "8f7b6942-ab4c-4e43-b1de-6d27fb3f92f1"
      },
      "source": [
        "print(stopwords)"
      ],
      "id": "vmV2ic3zSzJq",
      "execution_count": null,
      "outputs": [
        {
          "output_type": "stream",
          "text": [
            "<WordListCorpusReader in '/root/nltk_data/corpora/stopwords'>\n"
          ],
          "name": "stdout"
        }
      ]
    },
    {
      "cell_type": "code",
      "metadata": {
        "id": "SJWbwN6sS7ZS"
      },
      "source": [
        "ps = PorterStemmer()\n",
        "corpus = []\n",
        "for i in range(0,len(messages)):\n",
        "    result = re.sub('[^a-zA-Z]',' ',messages['statuses_text'][i])  \n",
        "    result = result.lower()\n",
        "    result = result.split()\n",
        "    \n",
        "    result = [ps.stem(word) for word in result if not word in stopwords.words(\"english\")]\n",
        "    result = \" \".join(result)\n",
        "    corpus.append(result)"
      ],
      "id": "SJWbwN6sS7ZS",
      "execution_count": null,
      "outputs": []
    },
    {
      "cell_type": "code",
      "metadata": {
        "id": "ZW0DNpwqS-Xp"
      },
      "source": [
        "onehot_repr = [one_hot(words,voc_size) for words in corpus]"
      ],
      "id": "ZW0DNpwqS-Xp",
      "execution_count": null,
      "outputs": []
    },
    {
      "cell_type": "code",
      "metadata": {
        "id": "GuAsa2lfTDMq"
      },
      "source": [
        "sent_length = 20\n",
        "embeded_docs = pad_sequences(onehot_repr,padding= 'pre',maxlen = sent_length)"
      ],
      "id": "GuAsa2lfTDMq",
      "execution_count": null,
      "outputs": []
    },
    {
      "cell_type": "code",
      "metadata": {
        "id": "VhTT40D1TI9K"
      },
      "source": [
        "embedding_vector_features = 40\n",
        "model = Sequential()\n",
        "model.add(Embedding(voc_size,embedding_vector_features,input_length = sent_length))\n",
        "model.add(Dropout(0.3))\n",
        "model.add(LSTM(100))\n",
        "model.add(Dropout(0.3))\n",
        "model.add(Dense(1,activation='sigmoid'))\n",
        "model.compile(optimizer = 'adam',loss ='binary_crossentropy',metrics=['accuracy'])"
      ],
      "id": "VhTT40D1TI9K",
      "execution_count": null,
      "outputs": []
    },
    {
      "cell_type": "code",
      "metadata": {
        "id": "62764F3VTKOT"
      },
      "source": [
        "x_final = np.array(embeded_docs)\n",
        "y_final = np.array(y)\n",
        "x_train,x_val,y_train,y_val = train_test_split(x_final,y_final,test_size=0.33,random_state=42)"
      ],
      "id": "62764F3VTKOT",
      "execution_count": null,
      "outputs": []
    },
    {
      "cell_type": "code",
      "metadata": {
        "id": "TGuq3sO4TRmK",
        "colab": {
          "base_uri": "https://localhost:8080/"
        },
        "outputId": "4f6ad3af-9c30-4f88-c9b8-ff3ac68762dc"
      },
      "source": [
        "model.summary()"
      ],
      "id": "TGuq3sO4TRmK",
      "execution_count": null,
      "outputs": [
        {
          "output_type": "stream",
          "text": [
            "Model: \"sequential\"\n",
            "_________________________________________________________________\n",
            "Layer (type)                 Output Shape              Param #   \n",
            "=================================================================\n",
            "embedding (Embedding)        (None, 20, 40)            200000    \n",
            "_________________________________________________________________\n",
            "dropout (Dropout)            (None, 20, 40)            0         \n",
            "_________________________________________________________________\n",
            "lstm (LSTM)                  (None, 100)               56400     \n",
            "_________________________________________________________________\n",
            "dropout_1 (Dropout)          (None, 100)               0         \n",
            "_________________________________________________________________\n",
            "dense (Dense)                (None, 1)                 101       \n",
            "=================================================================\n",
            "Total params: 256,501\n",
            "Trainable params: 256,501\n",
            "Non-trainable params: 0\n",
            "_________________________________________________________________\n"
          ],
          "name": "stdout"
        }
      ]
    },
    {
      "cell_type": "code",
      "metadata": {
        "id": "KOOPQxb_bNhP"
      },
      "source": [
        "def plot_learning_curve(history,epochs):\n",
        "    #Accuracy\n",
        "    epoch_range = range(1,epochs+1)\n",
        "    plt.plot(epoch_range,history.history['accuracy'])\n",
        "    plt.plot(epoch_range,history.history[\"val_accuracy\"])\n",
        "    plt.xlabel(\"Epochs\")\n",
        "    plt.ylabel(\"Accuracy\")\n",
        "    plt.legend([\"Train\",\"Val\"],loc =\"upper left\")\n",
        "    plt.show()"
      ],
      "id": "KOOPQxb_bNhP",
      "execution_count": null,
      "outputs": []
    },
    {
      "cell_type": "code",
      "metadata": {
        "id": "SMjScBSDh9Tt"
      },
      "source": [
        "from mlxtend.plotting import plot_confusion_matrix\n",
        "from sklearn.metrics import confusion_matrix"
      ],
      "id": "SMjScBSDh9Tt",
      "execution_count": null,
      "outputs": []
    },
    {
      "cell_type": "code",
      "metadata": {
        "id": "i3BNKc8uTZI0",
        "colab": {
          "base_uri": "https://localhost:8080/",
          "height": 1000
        },
        "outputId": "3427f877-febd-4090-c9b7-baba4e9ba2cc"
      },
      "source": [
        "history = model.fit(x_train, y_train,\n",
        "                    epochs=20,\n",
        "                    verbose=True,\n",
        "                    validation_data=(x_val, y_val),\n",
        "                    batch_size=64)\n",
        "loss, accuracy = model.evaluate(x_train, y_train, verbose=True)\n",
        "print(\"Training Accuracy: {:.4f}\".format(accuracy))\n",
        "loss, accuracy = model.evaluate(x_val, y_val, verbose=False)\n",
        "print(\"Testing Accuracy:  {:.4f}\".format(accuracy))\n",
        "plot_learning_curve(history,20)\n",
        "y_pred = model.predict_classes(x_val)\n",
        "mat = confusion_matrix(y_val,y_pred)\n",
        "plot_confusion_matrix(mat,figsize=(6,6),show_normed=True)"
      ],
      "id": "i3BNKc8uTZI0",
      "execution_count": null,
      "outputs": [
        {
          "output_type": "stream",
          "text": [
            "Epoch 1/20\n",
            "3390/3390 [==============================] - 117s 34ms/step - loss: 0.3547 - accuracy: 0.8808 - val_loss: 0.3455 - val_accuracy: 0.8819\n",
            "Epoch 2/20\n",
            "3390/3390 [==============================] - 114s 34ms/step - loss: 0.3401 - accuracy: 0.8812 - val_loss: 0.3436 - val_accuracy: 0.8823\n",
            "Epoch 3/20\n",
            "3390/3390 [==============================] - 111s 33ms/step - loss: 0.3332 - accuracy: 0.8817 - val_loss: 0.3483 - val_accuracy: 0.8821\n",
            "Epoch 4/20\n",
            "3390/3390 [==============================] - 110s 32ms/step - loss: 0.3273 - accuracy: 0.8825 - val_loss: 0.3455 - val_accuracy: 0.8819\n",
            "Epoch 5/20\n",
            "3390/3390 [==============================] - 109s 32ms/step - loss: 0.3227 - accuracy: 0.8833 - val_loss: 0.3498 - val_accuracy: 0.8801\n",
            "Epoch 6/20\n",
            "3390/3390 [==============================] - 109s 32ms/step - loss: 0.3187 - accuracy: 0.8844 - val_loss: 0.3515 - val_accuracy: 0.8803\n",
            "Epoch 7/20\n",
            "3390/3390 [==============================] - 110s 33ms/step - loss: 0.3150 - accuracy: 0.8853 - val_loss: 0.3525 - val_accuracy: 0.8801\n",
            "Epoch 8/20\n",
            "3390/3390 [==============================] - 112s 33ms/step - loss: 0.3109 - accuracy: 0.8862 - val_loss: 0.3609 - val_accuracy: 0.8780\n",
            "Epoch 9/20\n",
            "3390/3390 [==============================] - 113s 33ms/step - loss: 0.3080 - accuracy: 0.8870 - val_loss: 0.3589 - val_accuracy: 0.8774\n",
            "Epoch 10/20\n",
            "3390/3390 [==============================] - 109s 32ms/step - loss: 0.3051 - accuracy: 0.8878 - val_loss: 0.3623 - val_accuracy: 0.8781\n",
            "Epoch 11/20\n",
            "3390/3390 [==============================] - 111s 33ms/step - loss: 0.3027 - accuracy: 0.8886 - val_loss: 0.3632 - val_accuracy: 0.8775\n",
            "Epoch 12/20\n",
            "3390/3390 [==============================] - 110s 33ms/step - loss: 0.2996 - accuracy: 0.8893 - val_loss: 0.3712 - val_accuracy: 0.8770\n",
            "Epoch 13/20\n",
            "3390/3390 [==============================] - 110s 32ms/step - loss: 0.2974 - accuracy: 0.8904 - val_loss: 0.3702 - val_accuracy: 0.8748\n",
            "Epoch 14/20\n",
            "3390/3390 [==============================] - 109s 32ms/step - loss: 0.2949 - accuracy: 0.8912 - val_loss: 0.3764 - val_accuracy: 0.8747\n",
            "Epoch 15/20\n",
            "3390/3390 [==============================] - 110s 32ms/step - loss: 0.2932 - accuracy: 0.8916 - val_loss: 0.3763 - val_accuracy: 0.8723\n",
            "Epoch 16/20\n",
            "3390/3390 [==============================] - 112s 33ms/step - loss: 0.2915 - accuracy: 0.8923 - val_loss: 0.3803 - val_accuracy: 0.8728\n",
            "Epoch 17/20\n",
            "3390/3390 [==============================] - 112s 33ms/step - loss: 0.2892 - accuracy: 0.8933 - val_loss: 0.3927 - val_accuracy: 0.8706\n",
            "Epoch 18/20\n",
            "3390/3390 [==============================] - 113s 33ms/step - loss: 0.2873 - accuracy: 0.8943 - val_loss: 0.3919 - val_accuracy: 0.8724\n",
            "Epoch 19/20\n",
            "3390/3390 [==============================] - 110s 33ms/step - loss: 0.2855 - accuracy: 0.8948 - val_loss: 0.4016 - val_accuracy: 0.8716\n",
            "Epoch 20/20\n",
            "3390/3390 [==============================] - 109s 32ms/step - loss: 0.2839 - accuracy: 0.8951 - val_loss: 0.4080 - val_accuracy: 0.8707\n",
            "6780/6780 [==============================] - 40s 6ms/step - loss: 0.2632 - accuracy: 0.9028\n",
            "Training Accuracy: 0.9028\n",
            "Testing Accuracy:  0.8707\n"
          ],
          "name": "stdout"
        },
        {
          "output_type": "display_data",
          "data": {
            "image/png": "[encoded data removed]",
            "text/plain": [
              "<Figure size 432x288 with 1 Axes>"
            ]
          },
          "metadata": {
            "tags": [],
            "needs_background": "light"
          }
        },
        {
          "output_type": "stream",
          "text": [
            "/usr/local/lib/python3.7/dist-packages/tensorflow/python/keras/engine/sequential.py:455: UserWarning: `model.predict_classes()` is deprecated and will be removed after 2021-01-01. Please use instead:* `np.argmax(model.predict(x), axis=-1)`,   if your model does multi-class classification   (e.g. if it uses a `softmax` last-layer activation).* `(model.predict(x) > 0.5).astype(\"int32\")`,   if your model does binary classification   (e.g. if it uses a `sigmoid` last-layer activation).\n",
            "  warnings.warn('`model.predict_classes()` is deprecated and '\n"
          ],
          "name": "stderr"
        },
        {
          "output_type": "execute_result",
          "data": {
            "text/plain": [
              "(<Figure size 432x432 with 1 Axes>,\n",
              " <matplotlib.axes._subplots.AxesSubplot at 0x7ff3fbddb050>)"
            ]
          },
          "metadata": {
            "tags": []
          },
          "execution_count": 37
        },
        {
          "output_type": "display_data",
          "data": {
            "image/png": "[encoded data removed]",
            "text/plain": [
              "<Figure size 432x432 with 1 Axes>"
            ]
          },
          "metadata": {
            "tags": [],
            "needs_background": "light"
          }
        }
      ]
    },
    {
      "cell_type": "markdown",
      "metadata": {
        "id": "ykgrAEDBOLLx"
      },
      "source": [
        "From the confusion matrix , we can see that our data was overfitted. "
      ],
      "id": "ykgrAEDBOLLx"
    },
    {
      "cell_type": "code",
      "metadata": {
        "id": "Y6m0Pr52T3IU"
      },
      "source": [
        "#############################\n",
        "# logistic regresssion"
      ],
      "id": "Y6m0Pr52T3IU",
      "execution_count": null,
      "outputs": []
    },
    {
      "cell_type": "code",
      "metadata": {
        "id": "bhtCqgn_T7_W",
        "colab": {
          "base_uri": "https://localhost:8080/"
        },
        "outputId": "19df2106-8d51-45c0-ead3-82e5d247e216"
      },
      "source": [
        "classifier = LogisticRegression()\n",
        "classifier.fit(x_train, y_train)\n",
        "score = classifier.score(x_val, y_val)\n",
        "print(\"Accuracy:\", score)"
      ],
      "id": "bhtCqgn_T7_W",
      "execution_count": null,
      "outputs": [
        {
          "output_type": "stream",
          "text": [
            "Accuracy: 0.8817881507406957\n"
          ],
          "name": "stdout"
        },
        {
          "output_type": "stream",
          "text": [
            "/usr/local/lib/python3.7/dist-packages/sklearn/linear_model/_logistic.py:940: ConvergenceWarning: lbfgs failed to converge (status=1):\n",
            "STOP: TOTAL NO. of ITERATIONS REACHED LIMIT.\n",
            "\n",
            "Increase the number of iterations (max_iter) or scale the data as shown in:\n",
            "    https://scikit-learn.org/stable/modules/preprocessing.html\n",
            "Please also refer to the documentation for alternative solver options:\n",
            "    https://scikit-learn.org/stable/modules/linear_model.html#logistic-regression\n",
            "  extra_warning_msg=_LOGISTIC_SOLVER_CONVERGENCE_MSG)\n"
          ],
          "name": "stderr"
        }
      ]
    },
    {
      "cell_type": "code",
      "metadata": {
        "id": "8lcUEWd9UCUU",
        "colab": {
          "base_uri": "https://localhost:8080/",
          "height": 481
        },
        "outputId": "db956495-d18a-4c29-9a3d-2a09abfd9899"
      },
      "source": [
        "y_pred = model.predict_classes(x_val)\n",
        "mat = confusion_matrix(y_val,y_pred)\n",
        "plot_confusion_matrix(mat,figsize=(6,6),show_normed=True)"
      ],
      "id": "8lcUEWd9UCUU",
      "execution_count": null,
      "outputs": [
        {
          "output_type": "stream",
          "text": [
            "/usr/local/lib/python3.7/dist-packages/tensorflow/python/keras/engine/sequential.py:455: UserWarning: `model.predict_classes()` is deprecated and will be removed after 2021-01-01. Please use instead:* `np.argmax(model.predict(x), axis=-1)`,   if your model does multi-class classification   (e.g. if it uses a `softmax` last-layer activation).* `(model.predict(x) > 0.5).astype(\"int32\")`,   if your model does binary classification   (e.g. if it uses a `sigmoid` last-layer activation).\n",
            "  warnings.warn('`model.predict_classes()` is deprecated and '\n"
          ],
          "name": "stderr"
        },
        {
          "output_type": "execute_result",
          "data": {
            "text/plain": [
              "(<Figure size 432x432 with 1 Axes>,\n",
              " <matplotlib.axes._subplots.AxesSubplot at 0x7ff3f7f89710>)"
            ]
          },
          "metadata": {
            "tags": []
          },
          "execution_count": 40
        },
        {
          "output_type": "display_data",
          "data": {
            "image/png": "[encoded data removed]",
            "text/plain": [
              "<Figure size 432x432 with 1 Axes>"
            ]
          },
          "metadata": {
            "tags": [],
            "needs_background": "light"
          }
        }
      ]
    },
    {
      "cell_type": "code",
      "metadata": {
        "id": "GadkySdVULGm"
      },
      "source": [
        "# trying other models\n",
        "from tensorflow.keras.preprocessing.sequence import pad_sequences\n",
        "from tensorflow.keras import layers \n",
        "maxlen = 100\n",
        "\n",
        "x_train = pad_sequences(x_train, padding='post', maxlen=maxlen)\n",
        "x_val = pad_sequences(x_val, padding='post', maxlen=maxlen)"
      ],
      "id": "GadkySdVULGm",
      "execution_count": null,
      "outputs": []
    },
    {
      "cell_type": "code",
      "metadata": {
        "id": "fmlL_od6UVV4",
        "colab": {
          "base_uri": "https://localhost:8080/"
        },
        "outputId": "e7b73d7f-3db5-4acd-801e-ed1eecef6e33"
      },
      "source": [
        "embedding_dim = 50\n",
        "\n",
        "model = Sequential()\n",
        "model.add(layers.Embedding(input_dim=voc_size,output_dim=embedding_dim, input_length=maxlen))\n",
        "model.add(layers.Flatten())\n",
        "model.add(layers.Dense(10, activation='relu'))\n",
        "model.add(layers.Dense(1, activation='sigmoid'))\n",
        "model.compile(optimizer='adam',loss='binary_crossentropy',metrics=['accuracy'])\n",
        "model.summary()"
      ],
      "id": "fmlL_od6UVV4",
      "execution_count": null,
      "outputs": [
        {
          "output_type": "stream",
          "text": [
            "Model: \"sequential_1\"\n",
            "_________________________________________________________________\n",
            "Layer (type)                 Output Shape              Param #   \n",
            "=================================================================\n",
            "embedding_1 (Embedding)      (None, 100, 50)           250000    \n",
            "_________________________________________________________________\n",
            "flatten (Flatten)            (None, 5000)              0         \n",
            "_________________________________________________________________\n",
            "dense_1 (Dense)              (None, 10)                50010     \n",
            "_________________________________________________________________\n",
            "dense_2 (Dense)              (None, 1)                 11        \n",
            "=================================================================\n",
            "Total params: 300,021\n",
            "Trainable params: 300,021\n",
            "Non-trainable params: 0\n",
            "_________________________________________________________________\n"
          ],
          "name": "stdout"
        }
      ]
    },
    {
      "cell_type": "code",
      "metadata": {
        "id": "D2z57NSAUcCu",
        "colab": {
          "base_uri": "https://localhost:8080/",
          "height": 1000
        },
        "outputId": "b11dd5f4-d07f-4175-e37b-018be0e643cc"
      },
      "source": [
        "history = model.fit(x_train, y_train,\n",
        "                    epochs=20,\n",
        "                    verbose=True,\n",
        "                    validation_data=(x_val, y_val),\n",
        "                    batch_size=64)\n",
        "loss, accuracy = model.evaluate(x_train, y_train, verbose=True)\n",
        "print(\"Training Accuracy: {:.4f}\".format(accuracy))\n",
        "loss, accuracy = model.evaluate(x_val, y_val, verbose=False)\n",
        "print(\"Testing Accuracy:  {:.4f}\".format(accuracy))\n",
        "plot_learning_curve(history,20)\n",
        "y_pred = model.predict_classes(x_val)\n",
        "mat = confusion_matrix(y_val,y_pred)\n",
        "plot_confusion_matrix(mat,figsize=(6,6),show_normed=True)"
      ],
      "id": "D2z57NSAUcCu",
      "execution_count": null,
      "outputs": [
        {
          "output_type": "stream",
          "text": [
            "Epoch 1/20\n",
            "3390/3390 [==============================] - 34s 10ms/step - loss: 0.3509 - accuracy: 0.8808 - val_loss: 0.3442 - val_accuracy: 0.8818\n",
            "Epoch 2/20\n",
            "3390/3390 [==============================] - 35s 10ms/step - loss: 0.3312 - accuracy: 0.8808 - val_loss: 0.3452 - val_accuracy: 0.8818\n",
            "Epoch 3/20\n",
            "3390/3390 [==============================] - 34s 10ms/step - loss: 0.3169 - accuracy: 0.8809 - val_loss: 0.3511 - val_accuracy: 0.8818\n",
            "Epoch 4/20\n",
            "3390/3390 [==============================] - 34s 10ms/step - loss: 0.3046 - accuracy: 0.8835 - val_loss: 0.3615 - val_accuracy: 0.8799\n",
            "Epoch 5/20\n",
            "3390/3390 [==============================] - 33s 10ms/step - loss: 0.2937 - accuracy: 0.8882 - val_loss: 0.3767 - val_accuracy: 0.8754\n",
            "Epoch 6/20\n",
            "3390/3390 [==============================] - 35s 10ms/step - loss: 0.2820 - accuracy: 0.8940 - val_loss: 0.3946 - val_accuracy: 0.8713\n",
            "Epoch 7/20\n",
            "3390/3390 [==============================] - 34s 10ms/step - loss: 0.2723 - accuracy: 0.8985 - val_loss: 0.4230 - val_accuracy: 0.8702\n",
            "Epoch 8/20\n",
            "3390/3390 [==============================] - 36s 10ms/step - loss: 0.2646 - accuracy: 0.9018 - val_loss: 0.4726 - val_accuracy: 0.8660\n",
            "Epoch 9/20\n",
            "3390/3390 [==============================] - 31s 9ms/step - loss: 0.2590 - accuracy: 0.9041 - val_loss: 0.4967 - val_accuracy: 0.8679\n",
            "Epoch 10/20\n",
            "3390/3390 [==============================] - 29s 9ms/step - loss: 0.2538 - accuracy: 0.9062 - val_loss: 0.5381 - val_accuracy: 0.8621\n",
            "Epoch 11/20\n",
            "3390/3390 [==============================] - 27s 8ms/step - loss: 0.2506 - accuracy: 0.9072 - val_loss: 0.5457 - val_accuracy: 0.8638\n",
            "Epoch 12/20\n",
            "3390/3390 [==============================] - 32s 9ms/step - loss: 0.2478 - accuracy: 0.9084 - val_loss: 0.5937 - val_accuracy: 0.8668\n",
            "Epoch 13/20\n",
            "3390/3390 [==============================] - 30s 9ms/step - loss: 0.2455 - accuracy: 0.9092 - val_loss: 0.6002 - val_accuracy: 0.8618\n",
            "Epoch 14/20\n",
            "3390/3390 [==============================] - 28s 8ms/step - loss: 0.2435 - accuracy: 0.9098 - val_loss: 0.6459 - val_accuracy: 0.8651\n",
            "Epoch 15/20\n",
            "3390/3390 [==============================] - 32s 9ms/step - loss: 0.2421 - accuracy: 0.9102 - val_loss: 0.6412 - val_accuracy: 0.8650\n",
            "Epoch 16/20\n",
            "3390/3390 [==============================] - 32s 9ms/step - loss: 0.2405 - accuracy: 0.9109 - val_loss: 0.6905 - val_accuracy: 0.8621\n",
            "Epoch 17/20\n",
            "3390/3390 [==============================] - 30s 9ms/step - loss: 0.2399 - accuracy: 0.9108 - val_loss: 0.6906 - val_accuracy: 0.8623\n",
            "Epoch 18/20\n",
            "3390/3390 [==============================] - 29s 9ms/step - loss: 0.2391 - accuracy: 0.9111 - val_loss: 0.7185 - val_accuracy: 0.8622\n",
            "Epoch 19/20\n",
            "3390/3390 [==============================] - 29s 9ms/step - loss: 0.2379 - accuracy: 0.9114 - val_loss: 0.7336 - val_accuracy: 0.8626\n",
            "Epoch 20/20\n",
            "3390/3390 [==============================] - 28s 8ms/step - loss: 0.2373 - accuracy: 0.9116 - val_loss: 0.7535 - val_accuracy: 0.8631\n",
            "6780/6780 [==============================] - 10s 1ms/step - loss: 0.2312 - accuracy: 0.9125\n",
            "Training Accuracy: 0.9125\n",
            "Testing Accuracy:  0.8631\n"
          ],
          "name": "stdout"
        },
        {
          "output_type": "display_data",
          "data": {
            "image/png": "[encoded data removed]",
            "text/plain": [
              "<Figure size 432x288 with 1 Axes>"
            ]
          },
          "metadata": {
            "tags": [],
            "needs_background": "light"
          }
        },
        {
          "output_type": "stream",
          "text": [
            "/usr/local/lib/python3.7/dist-packages/tensorflow/python/keras/engine/sequential.py:455: UserWarning: `model.predict_classes()` is deprecated and will be removed after 2021-01-01. Please use instead:* `np.argmax(model.predict(x), axis=-1)`,   if your model does multi-class classification   (e.g. if it uses a `softmax` last-layer activation).* `(model.predict(x) > 0.5).astype(\"int32\")`,   if your model does binary classification   (e.g. if it uses a `sigmoid` last-layer activation).\n",
            "  warnings.warn('`model.predict_classes()` is deprecated and '\n"
          ],
          "name": "stderr"
        },
        {
          "output_type": "execute_result",
          "data": {
            "text/plain": [
              "(<Figure size 432x432 with 1 Axes>,\n",
              " <matplotlib.axes._subplots.AxesSubplot at 0x7ff3f74b3610>)"
            ]
          },
          "metadata": {
            "tags": []
          },
          "execution_count": 43
        },
        {
          "output_type": "display_data",
          "data": {
            "image/png": "[encoded data removed]",
            "text/plain": [
              "<Figure size 432x432 with 1 Axes>"
            ]
          },
          "metadata": {
            "tags": [],
            "needs_background": "light"
          }
        }
      ]
    },
    {
      "cell_type": "code",
      "metadata": {
        "id": "p9l_uEUVUdFf",
        "colab": {
          "base_uri": "https://localhost:8080/"
        },
        "outputId": "7fbcc5c8-bb48-4922-a02d-a70f311da0c3"
      },
      "source": [
        "embedding_dim = 50\n",
        "\n",
        "model = Sequential()\n",
        "model.add(layers.Embedding(input_dim=voc_size,output_dim=embedding_dim,input_length=maxlen))\n",
        "model.add(layers.GlobalMaxPool1D())\n",
        "model.add(layers.Dense(10, activation='relu'))\n",
        "model.add(layers.Dense(1, activation='sigmoid'))\n",
        "model.compile(optimizer='adam',\n",
        "              loss='binary_crossentropy',\n",
        "              metrics=['accuracy'])\n",
        "model.summary()"
      ],
      "id": "p9l_uEUVUdFf",
      "execution_count": null,
      "outputs": [
        {
          "output_type": "stream",
          "text": [
            "Model: \"sequential_2\"\n",
            "_________________________________________________________________\n",
            "Layer (type)                 Output Shape              Param #   \n",
            "=================================================================\n",
            "embedding_2 (Embedding)      (None, 100, 50)           250000    \n",
            "_________________________________________________________________\n",
            "global_max_pooling1d (Global (None, 50)                0         \n",
            "_________________________________________________________________\n",
            "dense_3 (Dense)              (None, 10)                510       \n",
            "_________________________________________________________________\n",
            "dense_4 (Dense)              (None, 1)                 11        \n",
            "=================================================================\n",
            "Total params: 250,521\n",
            "Trainable params: 250,521\n",
            "Non-trainable params: 0\n",
            "_________________________________________________________________\n"
          ],
          "name": "stdout"
        }
      ]
    },
    {
      "cell_type": "code",
      "metadata": {
        "id": "dCF845o8Uhx1",
        "colab": {
          "base_uri": "https://localhost:8080/",
          "height": 1000
        },
        "outputId": "3ce5bf3c-781d-4e5b-e184-6b054dd1bab7"
      },
      "source": [
        "history = model.fit(x_train, y_train,\n",
        "                    epochs=20,\n",
        "                    verbose=True,\n",
        "                    validation_data=(x_val, y_val),\n",
        "                    batch_size=64)\n",
        "loss, accuracy = model.evaluate(x_train, y_train, verbose=True)\n",
        "print(\"Training Accuracy: {:.4f}\".format(accuracy))\n",
        "loss, accuracy = model.evaluate(x_val, y_val, verbose=False)\n",
        "print(\"Testing Accuracy:  {:.4f}\".format(accuracy))\n",
        "plot_learning_curve(history,20)\n",
        "y_pred = model.predict_classes(x_val)\n",
        "mat = confusion_matrix(y_val,y_pred)\n",
        "plot_confusion_matrix(mat,figsize=(6,6),show_normed=True)\n"
      ],
      "id": "dCF845o8Uhx1",
      "execution_count": null,
      "outputs": [
        {
          "output_type": "stream",
          "text": [
            "Epoch 1/20\n",
            "3390/3390 [==============================] - 29s 8ms/step - loss: 0.3600 - accuracy: 0.8808 - val_loss: 0.3448 - val_accuracy: 0.8818\n",
            "Epoch 2/20\n",
            "3390/3390 [==============================] - 30s 9ms/step - loss: 0.3374 - accuracy: 0.8809 - val_loss: 0.3441 - val_accuracy: 0.8819\n",
            "Epoch 3/20\n",
            "3390/3390 [==============================] - 27s 8ms/step - loss: 0.3287 - accuracy: 0.8813 - val_loss: 0.3457 - val_accuracy: 0.8825\n",
            "Epoch 4/20\n",
            "3390/3390 [==============================] - 28s 8ms/step - loss: 0.3218 - accuracy: 0.8820 - val_loss: 0.3467 - val_accuracy: 0.8823\n",
            "Epoch 5/20\n",
            "3390/3390 [==============================] - 27s 8ms/step - loss: 0.3153 - accuracy: 0.8830 - val_loss: 0.3505 - val_accuracy: 0.8818\n",
            "Epoch 6/20\n",
            "3390/3390 [==============================] - 24s 7ms/step - loss: 0.3088 - accuracy: 0.8849 - val_loss: 0.3573 - val_accuracy: 0.8792\n",
            "Epoch 7/20\n",
            "3390/3390 [==============================] - 28s 8ms/step - loss: 0.3018 - accuracy: 0.8866 - val_loss: 0.3641 - val_accuracy: 0.8780\n",
            "Epoch 8/20\n",
            "3390/3390 [==============================] - 30s 9ms/step - loss: 0.2952 - accuracy: 0.8890 - val_loss: 0.3701 - val_accuracy: 0.8786\n",
            "Epoch 9/20\n",
            "3390/3390 [==============================] - 26s 8ms/step - loss: 0.2888 - accuracy: 0.8916 - val_loss: 0.3757 - val_accuracy: 0.8746\n",
            "Epoch 10/20\n",
            "3390/3390 [==============================] - 27s 8ms/step - loss: 0.2831 - accuracy: 0.8939 - val_loss: 0.3893 - val_accuracy: 0.8689\n",
            "Epoch 11/20\n",
            "3390/3390 [==============================] - 27s 8ms/step - loss: 0.2778 - accuracy: 0.8964 - val_loss: 0.3951 - val_accuracy: 0.8733\n",
            "Epoch 12/20\n",
            "3390/3390 [==============================] - 30s 9ms/step - loss: 0.2734 - accuracy: 0.8982 - val_loss: 0.3997 - val_accuracy: 0.8677\n",
            "Epoch 13/20\n",
            "3390/3390 [==============================] - 27s 8ms/step - loss: 0.2692 - accuracy: 0.9001 - val_loss: 0.4195 - val_accuracy: 0.8726\n",
            "Epoch 14/20\n",
            "3390/3390 [==============================] - 26s 8ms/step - loss: 0.2658 - accuracy: 0.9016 - val_loss: 0.4255 - val_accuracy: 0.8737\n",
            "Epoch 15/20\n",
            "3390/3390 [==============================] - 28s 8ms/step - loss: 0.2629 - accuracy: 0.9027 - val_loss: 0.4281 - val_accuracy: 0.8718\n",
            "Epoch 16/20\n",
            "3390/3390 [==============================] - 27s 8ms/step - loss: 0.2600 - accuracy: 0.9042 - val_loss: 0.4355 - val_accuracy: 0.8722\n",
            "Epoch 17/20\n",
            "3390/3390 [==============================] - 27s 8ms/step - loss: 0.2577 - accuracy: 0.9050 - val_loss: 0.4586 - val_accuracy: 0.8656\n",
            "Epoch 18/20\n",
            "3390/3390 [==============================] - 28s 8ms/step - loss: 0.2555 - accuracy: 0.9058 - val_loss: 0.4734 - val_accuracy: 0.8726\n",
            "Epoch 19/20\n",
            "3390/3390 [==============================] - 27s 8ms/step - loss: 0.2536 - accuracy: 0.9066 - val_loss: 0.4709 - val_accuracy: 0.8699\n",
            "Epoch 20/20\n",
            "3390/3390 [==============================] - 26s 8ms/step - loss: 0.2519 - accuracy: 0.9072 - val_loss: 0.4843 - val_accuracy: 0.8715\n",
            "6780/6780 [==============================] - 10s 1ms/step - loss: 0.2433 - accuracy: 0.9105\n",
            "Training Accuracy: 0.9105\n",
            "Testing Accuracy:  0.8715\n"
          ],
          "name": "stdout"
        },
        {
          "output_type": "display_data",
          "data": {
            "image/png": "[encoded data removed]",
            "text/plain": [
              "<Figure size 432x288 with 1 Axes>"
            ]
          },
          "metadata": {
            "tags": [],
            "needs_background": "light"
          }
        },
        {
          "output_type": "stream",
          "text": [
            "/usr/local/lib/python3.7/dist-packages/tensorflow/python/keras/engine/sequential.py:455: UserWarning: `model.predict_classes()` is deprecated and will be removed after 2021-01-01. Please use instead:* `np.argmax(model.predict(x), axis=-1)`,   if your model does multi-class classification   (e.g. if it uses a `softmax` last-layer activation).* `(model.predict(x) > 0.5).astype(\"int32\")`,   if your model does binary classification   (e.g. if it uses a `sigmoid` last-layer activation).\n",
            "  warnings.warn('`model.predict_classes()` is deprecated and '\n"
          ],
          "name": "stderr"
        },
        {
          "output_type": "execute_result",
          "data": {
            "text/plain": [
              "(<Figure size 432x432 with 1 Axes>,\n",
              " <matplotlib.axes._subplots.AxesSubplot at 0x7ff3f71e5690>)"
            ]
          },
          "metadata": {
            "tags": []
          },
          "execution_count": 45
        },
        {
          "output_type": "display_data",
          "data": {
            "image/png": "[encoded data removed]",
            "text/plain": [
              "<Figure size 432x432 with 1 Axes>"
            ]
          },
          "metadata": {
            "tags": [],
            "needs_background": "light"
          }
        }
      ]
    }
  ]
}