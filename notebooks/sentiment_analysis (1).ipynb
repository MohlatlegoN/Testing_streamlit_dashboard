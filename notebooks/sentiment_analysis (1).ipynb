{
  "nbformat": 4,
  "nbformat_minor": 5,
  "metadata": {
    "colab": {
      "name": "sentiment_analysis.ipynb",
      "provenance": [],
      "collapsed_sections": []
    },
    "kernelspec": {
      "display_name": "Python 3",
      "language": "python",
      "name": "python3"
    },
    "language_info": {
      "codemirror_mode": {
        "name": "ipython",
        "version": 3
      },
      "file_extension": ".py",
      "mimetype": "text/x-python",
      "name": "python",
      "nbconvert_exporter": "python",
      "pygments_lexer": "ipython3",
      "version": "3.7.10"
    }
  },
  "cells": [
    {
      "cell_type": "markdown",
      "metadata": {
        "id": "9wuMEanPQGZG"
      },
      "source": [
        " **Authors**\n",
        "\n",
        "1. Mohlatlego Nakeng\n",
        "\n",
        "2.  Raymond Chiruka"
      ],
      "id": "9wuMEanPQGZG"
    },
    {
      "cell_type": "markdown",
      "metadata": {
        "id": "hngfiRuIQKc0"
      },
      "source": [
        "# **Task**\n",
        "\n",
        "In this task we aim to minitor the microblogs sentiments using polarity measures, then we automate the sentiments by training the classification models."
      ],
      "id": "hngfiRuIQKc0"
    },
    {
      "cell_type": "code",
      "metadata": {
        "id": "renewable-revelation"
      },
      "source": [
        "import os\n",
        "import pandas as pd\n",
        "import matplotlib.pyplot as plt\n",
        "import seaborn as sns\n",
        "import itertools\n",
        "import collections\n",
        "import numpy as np\n",
        "import tweepy as tw\n",
        "import nltk\n",
        "from nltk.corpus import stopwords\n",
        "import re\n",
        "import networkx\n",
        "from textblob import TextBlob\n",
        "from google.colab import drive\n",
        "import warnings\n",
        "warnings.filterwarnings(\"ignore\")\n",
        "sns.set(font_scale=1.5)\n",
        "sns.set_style(\"whitegrid\")\n",
        "from sklearn.feature_extraction.text import CountVectorizer, TfidfVectorizer"
      ],
      "id": "renewable-revelation",
      "execution_count": null,
      "outputs": []
    },
    {
      "cell_type": "code",
      "metadata": {
        "colab": {
          "base_uri": "https://localhost:8080/"
        },
        "id": "5_A0vXdf6PmR",
        "outputId": "30050bb5-83c8-4189-cc72-3a871ed0b2c0"
      },
      "source": [
        "drive.mount('/content/drive')"
      ],
      "id": "5_A0vXdf6PmR",
      "execution_count": null,
      "outputs": [
        {
          "output_type": "stream",
          "text": [
            "Mounted at /content/drive\n"
          ],
          "name": "stdout"
        }
      ]
    },
    {
      "cell_type": "code",
      "metadata": {
        "colab": {
          "base_uri": "https://localhost:8080/"
        },
        "id": "mature-trade",
        "outputId": "18d438e7-40ef-4c2e-eae1-faa6b28f6b77"
      },
      "source": [
        "\n",
        "df= pd.read_csv(\"/content/drive/Shareddrives/MIT808 - group 6/data/Categories.csv\")\n",
        "print(\"Shape of Data => \", df.shape)"
      ],
      "id": "mature-trade",
      "execution_count": null,
      "outputs": [
        {
          "output_type": "stream",
          "text": [
            "Shape of Data =>  (404768, 5)\n"
          ],
          "name": "stdout"
        }
      ]
    },
    {
      "cell_type": "code",
      "metadata": {
        "id": "lasting-mixture"
      },
      "source": [
        "def remove_url(txt):\n",
        "    \"\"\"Replace URLs found in a text string with nothing \n",
        "    (i.e. it will remove the URL from the string).\n",
        "\n",
        "    Parameters\n",
        "    ----------\n",
        "    txt : string\n",
        "        A text string that you want to parse and remove urls.\n",
        "\n",
        "    Returns\n",
        "    -------\n",
        "    The same txt string with url's removed.\n",
        "    \"\"\"\n",
        "\n",
        "    return \" \".join(re.sub(\"([^0-9A-Za-z \\t])|(\\w+:\\/\\/\\S+)\", \"\", txt).split())\n"
      ],
      "id": "lasting-mixture",
      "execution_count": null,
      "outputs": []
    },
    {
      "cell_type": "code",
      "metadata": {
        "id": "regulation-india"
      },
      "source": [
        "# Remove URLs\n",
        "df['statuses_text'] = df['statuses_text'].apply(remove_url)"
      ],
      "id": "regulation-india",
      "execution_count": null,
      "outputs": []
    },
    {
      "cell_type": "code",
      "metadata": {
        "colab": {
          "base_uri": "https://localhost:8080/",
          "height": 204
        },
        "id": "interim-cancer",
        "outputId": "8be28ab2-1fff-4d00-8361-b71b4cfca51e"
      },
      "source": [
        "\n",
        "df.head()"
      ],
      "id": "interim-cancer",
      "execution_count": null,
      "outputs": [
        {
          "output_type": "execute_result",
          "data": {
            "text/html": [
              "<div>\n",
              "<style scoped>\n",
              "    .dataframe tbody tr th:only-of-type {\n",
              "        vertical-align: middle;\n",
              "    }\n",
              "\n",
              "    .dataframe tbody tr th {\n",
              "        vertical-align: top;\n",
              "    }\n",
              "\n",
              "    .dataframe thead th {\n",
              "        text-align: right;\n",
              "    }\n",
              "</style>\n",
              "<table border=\"1\" class=\"dataframe\">\n",
              "  <thead>\n",
              "    <tr style=\"text-align: right;\">\n",
              "      <th></th>\n",
              "      <th>statuses_text</th>\n",
              "      <th>statuses_retweeted</th>\n",
              "      <th>location_cat</th>\n",
              "      <th>tweets_location</th>\n",
              "      <th>message_creator</th>\n",
              "    </tr>\n",
              "  </thead>\n",
              "  <tbody>\n",
              "    <tr>\n",
              "      <th>0</th>\n",
              "      <td>rt drericding breakingsingleshot johnson amp j...</td>\n",
              "      <td>False</td>\n",
              "      <td>True</td>\n",
              "      <td>local</td>\n",
              "      <td>Human</td>\n",
              "    </tr>\n",
              "    <tr>\n",
              "      <th>1</th>\n",
              "      <td>rt bbcmorelle very good news on novavax vaccin...</td>\n",
              "      <td>False</td>\n",
              "      <td>True</td>\n",
              "      <td>local</td>\n",
              "      <td>Human</td>\n",
              "    </tr>\n",
              "    <tr>\n",
              "      <th>2</th>\n",
              "      <td>rt voxdotcom what makes the johnson amp johnso...</td>\n",
              "      <td>False</td>\n",
              "      <td>False</td>\n",
              "      <td>global</td>\n",
              "      <td>Human</td>\n",
              "    </tr>\n",
              "    <tr>\n",
              "      <th>3</th>\n",
              "      <td>rt drericding breakingsingleshot johnson amp j...</td>\n",
              "      <td>False</td>\n",
              "      <td>True</td>\n",
              "      <td>local</td>\n",
              "      <td>Human</td>\n",
              "    </tr>\n",
              "    <tr>\n",
              "      <th>4</th>\n",
              "      <td>rt jsavagetweets johnson amp johnson aka janss...</td>\n",
              "      <td>False</td>\n",
              "      <td>True</td>\n",
              "      <td>local</td>\n",
              "      <td>Human</td>\n",
              "    </tr>\n",
              "  </tbody>\n",
              "</table>\n",
              "</div>"
            ],
            "text/plain": [
              "                                       statuses_text  ...  message_creator\n",
              "0  rt drericding breakingsingleshot johnson amp j...  ...            Human\n",
              "1  rt bbcmorelle very good news on novavax vaccin...  ...            Human\n",
              "2  rt voxdotcom what makes the johnson amp johnso...  ...            Human\n",
              "3  rt drericding breakingsingleshot johnson amp j...  ...            Human\n",
              "4  rt jsavagetweets johnson amp johnson aka janss...  ...            Human\n",
              "\n",
              "[5 rows x 5 columns]"
            ]
          },
          "metadata": {
            "tags": []
          },
          "execution_count": 6
        }
      ]
    },
    {
      "cell_type": "code",
      "metadata": {
        "id": "bound-judges"
      },
      "source": [
        "sentiment_objects = [TextBlob(statuses_text) for statuses_text in df['statuses_text']]"
      ],
      "id": "bound-judges",
      "execution_count": null,
      "outputs": []
    },
    {
      "cell_type": "code",
      "metadata": {
        "colab": {
          "base_uri": "https://localhost:8080/"
        },
        "id": "round-affair",
        "outputId": "6abfcb83-7d4b-4569-b257-35b295d48d41"
      },
      "source": [
        "# creating the polarity for each tweet\n",
        "sentiment_objects[0].polarity, sentiment_objects[0]"
      ],
      "id": "round-affair",
      "execution_count": null,
      "outputs": [
        {
          "output_type": "execute_result",
          "data": {
            "text/plain": [
              "(0.3,\n",
              " TextBlob(\"rt drericding breakingsingleshot johnson amp johnson vaccine was 72 effective at protecting against moderate to severe illness in us 6\"))"
            ]
          },
          "metadata": {
            "tags": []
          },
          "execution_count": 8
        }
      ]
    },
    {
      "cell_type": "code",
      "metadata": {
        "id": "aquatic-adams"
      },
      "source": [
        "# Create list of polarity valuesx and tweet text\n",
        "sentiment_values = [[statuses_text.sentiment.polarity, str(statuses_text)] for statuses_text in sentiment_objects]\n"
      ],
      "id": "aquatic-adams",
      "execution_count": null,
      "outputs": []
    },
    {
      "cell_type": "code",
      "metadata": {
        "colab": {
          "base_uri": "https://localhost:8080/"
        },
        "id": "retired-timing",
        "outputId": "5dd9bb31-11d0-421b-dff2-3597affb84e0"
      },
      "source": [
        "sentiment_values[0]"
      ],
      "id": "retired-timing",
      "execution_count": null,
      "outputs": [
        {
          "output_type": "execute_result",
          "data": {
            "text/plain": [
              "[0.3,\n",
              " 'rt drericding breakingsingleshot johnson amp johnson vaccine was 72 effective at protecting against moderate to severe illness in us 6']"
            ]
          },
          "metadata": {
            "tags": []
          },
          "execution_count": 10
        }
      ]
    },
    {
      "cell_type": "code",
      "metadata": {
        "colab": {
          "base_uri": "https://localhost:8080/",
          "height": 204
        },
        "id": "JFuLyn8MgcGg",
        "outputId": "ad4e4923-9595-42a3-815e-32f55022083b"
      },
      "source": [
        "df.head()\n"
      ],
      "id": "JFuLyn8MgcGg",
      "execution_count": null,
      "outputs": [
        {
          "output_type": "execute_result",
          "data": {
            "text/html": [
              "<div>\n",
              "<style scoped>\n",
              "    .dataframe tbody tr th:only-of-type {\n",
              "        vertical-align: middle;\n",
              "    }\n",
              "\n",
              "    .dataframe tbody tr th {\n",
              "        vertical-align: top;\n",
              "    }\n",
              "\n",
              "    .dataframe thead th {\n",
              "        text-align: right;\n",
              "    }\n",
              "</style>\n",
              "<table border=\"1\" class=\"dataframe\">\n",
              "  <thead>\n",
              "    <tr style=\"text-align: right;\">\n",
              "      <th></th>\n",
              "      <th>statuses_text</th>\n",
              "      <th>statuses_retweeted</th>\n",
              "      <th>location_cat</th>\n",
              "      <th>tweets_location</th>\n",
              "      <th>message_creator</th>\n",
              "    </tr>\n",
              "  </thead>\n",
              "  <tbody>\n",
              "    <tr>\n",
              "      <th>0</th>\n",
              "      <td>rt drericding breakingsingleshot johnson amp j...</td>\n",
              "      <td>False</td>\n",
              "      <td>True</td>\n",
              "      <td>local</td>\n",
              "      <td>Human</td>\n",
              "    </tr>\n",
              "    <tr>\n",
              "      <th>1</th>\n",
              "      <td>rt bbcmorelle very good news on novavax vaccin...</td>\n",
              "      <td>False</td>\n",
              "      <td>True</td>\n",
              "      <td>local</td>\n",
              "      <td>Human</td>\n",
              "    </tr>\n",
              "    <tr>\n",
              "      <th>2</th>\n",
              "      <td>rt voxdotcom what makes the johnson amp johnso...</td>\n",
              "      <td>False</td>\n",
              "      <td>False</td>\n",
              "      <td>global</td>\n",
              "      <td>Human</td>\n",
              "    </tr>\n",
              "    <tr>\n",
              "      <th>3</th>\n",
              "      <td>rt drericding breakingsingleshot johnson amp j...</td>\n",
              "      <td>False</td>\n",
              "      <td>True</td>\n",
              "      <td>local</td>\n",
              "      <td>Human</td>\n",
              "    </tr>\n",
              "    <tr>\n",
              "      <th>4</th>\n",
              "      <td>rt jsavagetweets johnson amp johnson aka janss...</td>\n",
              "      <td>False</td>\n",
              "      <td>True</td>\n",
              "      <td>local</td>\n",
              "      <td>Human</td>\n",
              "    </tr>\n",
              "  </tbody>\n",
              "</table>\n",
              "</div>"
            ],
            "text/plain": [
              "                                       statuses_text  ...  message_creator\n",
              "0  rt drericding breakingsingleshot johnson amp j...  ...            Human\n",
              "1  rt bbcmorelle very good news on novavax vaccin...  ...            Human\n",
              "2  rt voxdotcom what makes the johnson amp johnso...  ...            Human\n",
              "3  rt drericding breakingsingleshot johnson amp j...  ...            Human\n",
              "4  rt jsavagetweets johnson amp johnson aka janss...  ...            Human\n",
              "\n",
              "[5 rows x 5 columns]"
            ]
          },
          "metadata": {
            "tags": []
          },
          "execution_count": 11
        }
      ]
    },
    {
      "cell_type": "code",
      "metadata": {
        "id": "better-stuff"
      },
      "source": [
        "\n",
        "df = pd.DataFrame(sentiment_values, columns=[\"polarity\", \"statuses_text\"])"
      ],
      "id": "better-stuff",
      "execution_count": null,
      "outputs": []
    },
    {
      "cell_type": "code",
      "metadata": {
        "colab": {
          "base_uri": "https://localhost:8080/",
          "height": 204
        },
        "id": "martial-october",
        "outputId": "e20f905f-e42d-4bb0-e0dc-77b7a04c37a2"
      },
      "source": [
        "df.head()"
      ],
      "id": "martial-october",
      "execution_count": null,
      "outputs": [
        {
          "output_type": "execute_result",
          "data": {
            "text/html": [
              "<div>\n",
              "<style scoped>\n",
              "    .dataframe tbody tr th:only-of-type {\n",
              "        vertical-align: middle;\n",
              "    }\n",
              "\n",
              "    .dataframe tbody tr th {\n",
              "        vertical-align: top;\n",
              "    }\n",
              "\n",
              "    .dataframe thead th {\n",
              "        text-align: right;\n",
              "    }\n",
              "</style>\n",
              "<table border=\"1\" class=\"dataframe\">\n",
              "  <thead>\n",
              "    <tr style=\"text-align: right;\">\n",
              "      <th></th>\n",
              "      <th>polarity</th>\n",
              "      <th>statuses_text</th>\n",
              "    </tr>\n",
              "  </thead>\n",
              "  <tbody>\n",
              "    <tr>\n",
              "      <th>0</th>\n",
              "      <td>0.300</td>\n",
              "      <td>rt drericding breakingsingleshot johnson amp j...</td>\n",
              "    </tr>\n",
              "    <tr>\n",
              "      <th>1</th>\n",
              "      <td>0.855</td>\n",
              "      <td>rt bbcmorelle very good news on novavax vaccin...</td>\n",
              "    </tr>\n",
              "    <tr>\n",
              "      <th>2</th>\n",
              "      <td>0.000</td>\n",
              "      <td>rt voxdotcom what makes the johnson amp johnso...</td>\n",
              "    </tr>\n",
              "    <tr>\n",
              "      <th>3</th>\n",
              "      <td>0.300</td>\n",
              "      <td>rt drericding breakingsingleshot johnson amp j...</td>\n",
              "    </tr>\n",
              "    <tr>\n",
              "      <th>4</th>\n",
              "      <td>0.400</td>\n",
              "      <td>rt jsavagetweets johnson amp johnson aka janss...</td>\n",
              "    </tr>\n",
              "  </tbody>\n",
              "</table>\n",
              "</div>"
            ],
            "text/plain": [
              "   polarity                                      statuses_text\n",
              "0     0.300  rt drericding breakingsingleshot johnson amp j...\n",
              "1     0.855  rt bbcmorelle very good news on novavax vaccin...\n",
              "2     0.000  rt voxdotcom what makes the johnson amp johnso...\n",
              "3     0.300  rt drericding breakingsingleshot johnson amp j...\n",
              "4     0.400  rt jsavagetweets johnson amp johnson aka janss..."
            ]
          },
          "metadata": {
            "tags": []
          },
          "execution_count": 13
        }
      ]
    },
    {
      "cell_type": "code",
      "metadata": {
        "colab": {
          "base_uri": "https://localhost:8080/",
          "height": 427
        },
        "id": "arranged-chaos",
        "outputId": "099162bf-c6a9-49d1-9755-90fa68310db4"
      },
      "source": [
        "fig, ax = plt.subplots(figsize=(8, 6))\n",
        "\n",
        "# Plot histogram of the polarity values\n",
        "df.hist(bins=[-1, -0.75, -0.5, -0.25, 0.25, 0.5, 0.75, 1],\n",
        "             ax=ax,\n",
        "             color=\"purple\")\n",
        "plt.xlabel(\"Polarity\")\n",
        "plt.ylabel(\"frequency\")\n",
        "plt.title(\"Sentiments from Tweets on Covid\")\n",
        "plt.show()\n"
      ],
      "id": "arranged-chaos",
      "execution_count": null,
      "outputs": [
        {
          "output_type": "display_data",
          "data": {
            "image/png": "[encoded data removed]",
            "text/plain": [
              "<Figure size 576x432 with 1 Axes>"
            ]
          },
          "metadata": {
            "tags": [],
            "needs_background": "light"
          }
        }
      ]
    },
    {
      "cell_type": "code",
      "metadata": {
        "id": "changed-worse"
      },
      "source": [
        "# creating a categorical variable if polarity is less than 0 then sentiment is negative, if  polarity== 0 then sentiment is neutral and else sentiment is positive\n",
        "conditions = [\n",
        "    (df['polarity'] < 0),\n",
        "    (df['polarity'] > 0) ,\n",
        "    (df['polarity'] ==0)     \n",
        "    ]\n",
        "\n",
        "# create a list of the values we want to assign for each condition\n",
        "values = ['negative', 'positive', 'neutral' ]\n",
        "\n",
        "# create a new column and use np.select to assign values to it using our lists as arguments\n",
        "df['sentiment'] = np.select(conditions, values)"
      ],
      "id": "changed-worse",
      "execution_count": null,
      "outputs": []
    },
    {
      "cell_type": "code",
      "metadata": {
        "colab": {
          "base_uri": "https://localhost:8080/",
          "height": 204
        },
        "id": "behavioral-kernel",
        "outputId": "d57ba13e-c12d-49bf-af7a-95649bce1121"
      },
      "source": [
        "df.head()"
      ],
      "id": "behavioral-kernel",
      "execution_count": null,
      "outputs": [
        {
          "output_type": "execute_result",
          "data": {
            "text/html": [
              "<div>\n",
              "<style scoped>\n",
              "    .dataframe tbody tr th:only-of-type {\n",
              "        vertical-align: middle;\n",
              "    }\n",
              "\n",
              "    .dataframe tbody tr th {\n",
              "        vertical-align: top;\n",
              "    }\n",
              "\n",
              "    .dataframe thead th {\n",
              "        text-align: right;\n",
              "    }\n",
              "</style>\n",
              "<table border=\"1\" class=\"dataframe\">\n",
              "  <thead>\n",
              "    <tr style=\"text-align: right;\">\n",
              "      <th></th>\n",
              "      <th>polarity</th>\n",
              "      <th>statuses_text</th>\n",
              "      <th>sentiment</th>\n",
              "    </tr>\n",
              "  </thead>\n",
              "  <tbody>\n",
              "    <tr>\n",
              "      <th>0</th>\n",
              "      <td>0.300</td>\n",
              "      <td>rt drericding breakingsingleshot johnson amp j...</td>\n",
              "      <td>positive</td>\n",
              "    </tr>\n",
              "    <tr>\n",
              "      <th>1</th>\n",
              "      <td>0.855</td>\n",
              "      <td>rt bbcmorelle very good news on novavax vaccin...</td>\n",
              "      <td>positive</td>\n",
              "    </tr>\n",
              "    <tr>\n",
              "      <th>2</th>\n",
              "      <td>0.000</td>\n",
              "      <td>rt voxdotcom what makes the johnson amp johnso...</td>\n",
              "      <td>neutral</td>\n",
              "    </tr>\n",
              "    <tr>\n",
              "      <th>3</th>\n",
              "      <td>0.300</td>\n",
              "      <td>rt drericding breakingsingleshot johnson amp j...</td>\n",
              "      <td>positive</td>\n",
              "    </tr>\n",
              "    <tr>\n",
              "      <th>4</th>\n",
              "      <td>0.400</td>\n",
              "      <td>rt jsavagetweets johnson amp johnson aka janss...</td>\n",
              "      <td>positive</td>\n",
              "    </tr>\n",
              "  </tbody>\n",
              "</table>\n",
              "</div>"
            ],
            "text/plain": [
              "   polarity                                      statuses_text sentiment\n",
              "0     0.300  rt drericding breakingsingleshot johnson amp j...  positive\n",
              "1     0.855  rt bbcmorelle very good news on novavax vaccin...  positive\n",
              "2     0.000  rt voxdotcom what makes the johnson amp johnso...   neutral\n",
              "3     0.300  rt drericding breakingsingleshot johnson amp j...  positive\n",
              "4     0.400  rt jsavagetweets johnson amp johnson aka janss...  positive"
            ]
          },
          "metadata": {
            "tags": []
          },
          "execution_count": 16
        }
      ]
    },
    {
      "cell_type": "code",
      "metadata": {
        "id": "photographic-church"
      },
      "source": [
        "df.drop(columns=['polarity'],inplace=True)"
      ],
      "id": "photographic-church",
      "execution_count": null,
      "outputs": []
    },
    {
      "cell_type": "code",
      "metadata": {
        "colab": {
          "base_uri": "https://localhost:8080/"
        },
        "id": "convertible-morrison",
        "outputId": "f9a37c4a-2f9b-496e-bed8-20fec509a1d4"
      },
      "source": [
        "df.isnull().sum()"
      ],
      "id": "convertible-morrison",
      "execution_count": null,
      "outputs": [
        {
          "output_type": "execute_result",
          "data": {
            "text/plain": [
              "statuses_text    0\n",
              "sentiment        0\n",
              "dtype: int64"
            ]
          },
          "metadata": {
            "tags": []
          },
          "execution_count": 18
        }
      ]
    },
    {
      "cell_type": "code",
      "metadata": {
        "colab": {
          "base_uri": "https://localhost:8080/",
          "height": 204
        },
        "id": "general-characterization",
        "outputId": "29aab8cd-b520-47cc-b43d-f25c8976c2e5"
      },
      "source": [
        "length = []\n",
        "[length.append(len(str(text))) for text in df['statuses_text']]\n",
        "df['length'] = length\n",
        "df.head()"
      ],
      "id": "general-characterization",
      "execution_count": null,
      "outputs": [
        {
          "output_type": "execute_result",
          "data": {
            "text/html": [
              "<div>\n",
              "<style scoped>\n",
              "    .dataframe tbody tr th:only-of-type {\n",
              "        vertical-align: middle;\n",
              "    }\n",
              "\n",
              "    .dataframe tbody tr th {\n",
              "        vertical-align: top;\n",
              "    }\n",
              "\n",
              "    .dataframe thead th {\n",
              "        text-align: right;\n",
              "    }\n",
              "</style>\n",
              "<table border=\"1\" class=\"dataframe\">\n",
              "  <thead>\n",
              "    <tr style=\"text-align: right;\">\n",
              "      <th></th>\n",
              "      <th>statuses_text</th>\n",
              "      <th>sentiment</th>\n",
              "      <th>length</th>\n",
              "    </tr>\n",
              "  </thead>\n",
              "  <tbody>\n",
              "    <tr>\n",
              "      <th>0</th>\n",
              "      <td>rt drericding breakingsingleshot johnson amp j...</td>\n",
              "      <td>positive</td>\n",
              "      <td>134</td>\n",
              "    </tr>\n",
              "    <tr>\n",
              "      <th>1</th>\n",
              "      <td>rt bbcmorelle very good news on novavax vaccin...</td>\n",
              "      <td>positive</td>\n",
              "      <td>124</td>\n",
              "    </tr>\n",
              "    <tr>\n",
              "      <th>2</th>\n",
              "      <td>rt voxdotcom what makes the johnson amp johnso...</td>\n",
              "      <td>neutral</td>\n",
              "      <td>127</td>\n",
              "    </tr>\n",
              "    <tr>\n",
              "      <th>3</th>\n",
              "      <td>rt drericding breakingsingleshot johnson amp j...</td>\n",
              "      <td>positive</td>\n",
              "      <td>134</td>\n",
              "    </tr>\n",
              "    <tr>\n",
              "      <th>4</th>\n",
              "      <td>rt jsavagetweets johnson amp johnson aka janss...</td>\n",
              "      <td>positive</td>\n",
              "      <td>129</td>\n",
              "    </tr>\n",
              "  </tbody>\n",
              "</table>\n",
              "</div>"
            ],
            "text/plain": [
              "                                       statuses_text sentiment  length\n",
              "0  rt drericding breakingsingleshot johnson amp j...  positive     134\n",
              "1  rt bbcmorelle very good news on novavax vaccin...  positive     124\n",
              "2  rt voxdotcom what makes the johnson amp johnso...   neutral     127\n",
              "3  rt drericding breakingsingleshot johnson amp j...  positive     134\n",
              "4  rt jsavagetweets johnson amp johnson aka janss...  positive     129"
            ]
          },
          "metadata": {
            "tags": []
          },
          "execution_count": 19
        }
      ]
    },
    {
      "cell_type": "code",
      "metadata": {
        "colab": {
          "base_uri": "https://localhost:8080/",
          "height": 293
        },
        "id": "hollywood-space",
        "outputId": "27ebea65-964f-4924-c2a2-213a69eec4c9"
      },
      "source": [
        "df.sentiment.hist()"
      ],
      "id": "hollywood-space",
      "execution_count": null,
      "outputs": [
        {
          "output_type": "execute_result",
          "data": {
            "text/plain": [
              "<matplotlib.axes._subplots.AxesSubplot at 0x7f6ffb608b90>"
            ]
          },
          "metadata": {
            "tags": []
          },
          "execution_count": 20
        },
        {
          "output_type": "display_data",
          "data": {
            "image/png": "[encoded data removed]",
            "text/plain": [
              "<Figure size 432x288 with 1 Axes>"
            ]
          },
          "metadata": {
            "tags": [],
            "needs_background": "light"
          }
        }
      ]
    },
    {
      "cell_type": "code",
      "metadata": {
        "id": "JNn9znyzTdp1"
      },
      "source": [
        "df.to_csv(\"/content/drive/Shareddrives/MIT808 - group 6/data/senetimets.csv\")"
      ],
      "id": "JNn9znyzTdp1",
      "execution_count": null,
      "outputs": []
    },
    {
      "cell_type": "markdown",
      "metadata": {
        "id": "A86OZbboPgTZ"
      },
      "source": [
        "Now the Automate the sentiments by bulding a model"
      ],
      "id": "A86OZbboPgTZ"
    },
    {
      "cell_type": "code",
      "metadata": {
        "id": "sorted-minutes"
      },
      "source": [
        "X=df['statuses_text']\n",
        "y=df['sentiment']"
      ],
      "id": "sorted-minutes",
      "execution_count": null,
      "outputs": []
    },
    {
      "cell_type": "code",
      "metadata": {
        "id": "numerical-economics",
        "colab": {
          "base_uri": "https://localhost:8080/"
        },
        "outputId": "2504981f-0017-4344-8ee2-eda772979e7e"
      },
      "source": [
        "from nltk.corpus import stopwords\n",
        "nltk.download('stopwords')\n",
        "from nltk.stem import PorterStemmer\n",
        "stop_words=stopwords.words('english')\n",
        "stemmer=PorterStemmer()"
      ],
      "id": "numerical-economics",
      "execution_count": null,
      "outputs": [
        {
          "output_type": "stream",
          "text": [
            "[nltk_data] Downloading package stopwords to /root/nltk_data...\n",
            "[nltk_data]   Unzipping corpora/stopwords.zip.\n"
          ],
          "name": "stdout"
        }
      ]
    },
    {
      "cell_type": "code",
      "metadata": {
        "id": "balanced-atlanta"
      },
      "source": [
        "import re\n",
        "cleaned_data=[]\n",
        "for i in range(len(X)):\n",
        "   tweet=re.sub('[^a-zA-Z]',' ',X.iloc[i])\n",
        "   tweet=tweet.lower().split()\n",
        "   tweet=[stemmer.stem(word) for word in tweet if (word not in stop_words)]\n",
        "   tweet=' '.join(tweet)\n",
        "   cleaned_data.append(tweet)"
      ],
      "id": "balanced-atlanta",
      "execution_count": null,
      "outputs": []
    },
    {
      "cell_type": "code",
      "metadata": {
        "id": "outdoor-greensboro"
      },
      "source": [
        "cv= TfidfVectorizer(max_features=3000,stop_words=['rt'])"
      ],
      "id": "outdoor-greensboro",
      "execution_count": null,
      "outputs": []
    },
    {
      "cell_type": "code",
      "metadata": {
        "id": "initial-bookmark"
      },
      "source": [
        "X_fin =cv.fit_transform(cleaned_data)"
      ],
      "id": "initial-bookmark",
      "execution_count": null,
      "outputs": []
    },
    {
      "cell_type": "code",
      "metadata": {
        "id": "ranking-manchester"
      },
      "source": [
        "\n",
        "sentiment_ordering = ['negative', 'neutral', 'positive']\n",
        "y = y.apply(lambda x: sentiment_ordering.index(x))"
      ],
      "id": "ranking-manchester",
      "execution_count": null,
      "outputs": []
    },
    {
      "cell_type": "code",
      "metadata": {
        "id": "compliant-pledge",
        "colab": {
          "base_uri": "https://localhost:8080/"
        },
        "outputId": "034c8728-40c3-4f90-f837-0609b6c95028"
      },
      "source": [
        "y"
      ],
      "id": "compliant-pledge",
      "execution_count": null,
      "outputs": [
        {
          "output_type": "execute_result",
          "data": {
            "text/plain": [
              "0         2\n",
              "1         2\n",
              "2         1\n",
              "3         2\n",
              "4         2\n",
              "         ..\n",
              "404763    0\n",
              "404764    1\n",
              "404765    2\n",
              "404766    2\n",
              "404767    1\n",
              "Name: sentiment, Length: 404768, dtype: int64"
            ]
          },
          "metadata": {
            "tags": []
          },
          "execution_count": 28
        }
      ]
    },
    {
      "cell_type": "code",
      "metadata": {
        "id": "exotic-holly"
      },
      "source": [
        "from sklearn.naive_bayes import MultinomialNB\n",
        "model=MultinomialNB()"
      ],
      "id": "exotic-holly",
      "execution_count": null,
      "outputs": []
    },
    {
      "cell_type": "code",
      "metadata": {
        "id": "cooperative-huntington",
        "colab": {
          "base_uri": "https://localhost:8080/"
        },
        "outputId": "9da0ffea-17c4-4558-8d47-11edabe21d6b"
      },
      "source": [
        "from sklearn.model_selection import train_test_split\n",
        "X_train,X_test,y_train,y_test=train_test_split(X_fin,y,test_size=0.3)\n",
        "model.fit(X_train,y_train)"
      ],
      "id": "cooperative-huntington",
      "execution_count": null,
      "outputs": [
        {
          "output_type": "execute_result",
          "data": {
            "text/plain": [
              "MultinomialNB(alpha=1.0, class_prior=None, fit_prior=True)"
            ]
          },
          "metadata": {
            "tags": []
          },
          "execution_count": 30
        }
      ]
    },
    {
      "cell_type": "code",
      "metadata": {
        "id": "premier-contract",
        "colab": {
          "base_uri": "https://localhost:8080/"
        },
        "outputId": "cc438445-19d5-41a0-c54a-e4f6581c9b06"
      },
      "source": [
        "y_pred=model.predict(X_test)\n",
        "from sklearn.metrics import classification_report\n",
        "cf=classification_report(y_test,y_pred)\n",
        "print(cf)"
      ],
      "id": "premier-contract",
      "execution_count": null,
      "outputs": [
        {
          "output_type": "stream",
          "text": [
            "              precision    recall  f1-score   support\n",
            "\n",
            "           0       0.89      0.66      0.75     18088\n",
            "           1       0.86      0.83      0.85     49850\n",
            "           2       0.81      0.91      0.86     53493\n",
            "\n",
            "    accuracy                           0.84    121431\n",
            "   macro avg       0.85      0.80      0.82    121431\n",
            "weighted avg       0.84      0.84      0.84    121431\n",
            "\n"
          ],
          "name": "stdout"
        }
      ]
    },
    {
      "cell_type": "code",
      "metadata": {
        "id": "attractive-invention",
        "colab": {
          "base_uri": "https://localhost:8080/"
        },
        "outputId": "899f6187-0325-4136-f523-8ac78104e46d"
      },
      "source": [
        "# training a Logistic Regression model \n",
        "from sklearn.linear_model import LogisticRegression\n",
        "LR_model = LogisticRegression(solver='lbfgs')\n",
        "cl=LR_model.fit(X_train,y_train)\n",
        "cl.predict(X_test)\n",
        "cl.score(X_test,y_test)\n"
      ],
      "id": "attractive-invention",
      "execution_count": null,
      "outputs": [
        {
          "output_type": "execute_result",
          "data": {
            "text/plain": [
              "0.9334436840674951"
            ]
          },
          "metadata": {
            "tags": []
          },
          "execution_count": 32
        }
      ]
    },
    {
      "cell_type": "code",
      "metadata": {
        "colab": {
          "base_uri": "https://localhost:8080/"
        },
        "id": "Gh-GSalI8R38",
        "outputId": "9be46044-24fd-4ff6-fb46-cd78f689e13b"
      },
      "source": [
        "# # training a Logistic Regression model with cv=5\n",
        "from sklearn.linear_model import LogisticRegressionCV\n",
        "cv=5\n",
        "LR_model = LogisticRegression(solver='lbfgs')\n",
        "cl=LR_model.fit(X_train,y_train)\n",
        "cl.predict(X_test)\n",
        "cl.score(X_test,y_test)"
      ],
      "id": "Gh-GSalI8R38",
      "execution_count": null,
      "outputs": [
        {
          "output_type": "execute_result",
          "data": {
            "text/plain": [
              "0.9334436840674951"
            ]
          },
          "metadata": {
            "tags": []
          },
          "execution_count": 33
        }
      ]
    },
    {
      "cell_type": "markdown",
      "metadata": {
        "id": "eyQC075SFEBc"
      },
      "source": [
        ""
      ],
      "id": "eyQC075SFEBc"
    }
  ]
}